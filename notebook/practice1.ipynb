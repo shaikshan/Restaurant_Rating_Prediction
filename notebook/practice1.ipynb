{
 "cells": [
  {
   "cell_type": "code",
   "execution_count": 268,
   "metadata": {},
   "outputs": [],
   "source": [
    "import pandas as pd\n",
    "from Restaurant.util.util import columns_removal\n",
    "\n",
    "test_file_path = r\"D:\\Restaurant_Rating_Prediction\\Restaurant\\artifact\\data_ingestion\\2022-08-31-11-28-54\\ingested_data\\test\\zomato.csv\"\n",
    "\n",
    "test_df = pd.read_csv(test_file_path)"
   ]
  },
  {
   "cell_type": "code",
   "execution_count": 269,
   "metadata": {},
   "outputs": [
    {
     "data": {
      "text/html": [
       "<div>\n",
       "<style scoped>\n",
       "    .dataframe tbody tr th:only-of-type {\n",
       "        vertical-align: middle;\n",
       "    }\n",
       "\n",
       "    .dataframe tbody tr th {\n",
       "        vertical-align: top;\n",
       "    }\n",
       "\n",
       "    .dataframe thead th {\n",
       "        text-align: right;\n",
       "    }\n",
       "</style>\n",
       "<table border=\"1\" class=\"dataframe\">\n",
       "  <thead>\n",
       "    <tr style=\"text-align: right;\">\n",
       "      <th></th>\n",
       "      <th>name</th>\n",
       "      <th>online_order</th>\n",
       "      <th>book_table</th>\n",
       "      <th>votes</th>\n",
       "      <th>location</th>\n",
       "      <th>rest_type</th>\n",
       "      <th>dish_liked</th>\n",
       "      <th>cuisines</th>\n",
       "      <th>approx_cost(for two people)</th>\n",
       "      <th>listed_in(type)</th>\n",
       "      <th>listed_in(city)</th>\n",
       "      <th>Rate</th>\n",
       "    </tr>\n",
       "  </thead>\n",
       "  <tbody>\n",
       "    <tr>\n",
       "      <th>0</th>\n",
       "      <td>Kshera Sagar</td>\n",
       "      <td>No</td>\n",
       "      <td>No</td>\n",
       "      <td>0</td>\n",
       "      <td>Koramangala 1st Block</td>\n",
       "      <td>Quick Bites</td>\n",
       "      <td>NaN</td>\n",
       "      <td>North Indian, Chinese</td>\n",
       "      <td>200</td>\n",
       "      <td>Dine-out</td>\n",
       "      <td>Koramangala 5th Block</td>\n",
       "      <td>3.9</td>\n",
       "    </tr>\n",
       "    <tr>\n",
       "      <th>1</th>\n",
       "      <td>Melt - Eden Park</td>\n",
       "      <td>Yes</td>\n",
       "      <td>Yes</td>\n",
       "      <td>347</td>\n",
       "      <td>JP Nagar</td>\n",
       "      <td>Casual Dining</td>\n",
       "      <td>Tandoori Chicken, Biryani, Paneer Tikka, Chick...</td>\n",
       "      <td>North Indian, Chinese, Thai, Mughlai, Seafood</td>\n",
       "      <td>1,000</td>\n",
       "      <td>Buffet</td>\n",
       "      <td>JP Nagar</td>\n",
       "      <td>4.0</td>\n",
       "    </tr>\n",
       "  </tbody>\n",
       "</table>\n",
       "</div>"
      ],
      "text/plain": [
       "               name online_order book_table  votes               location  \\\n",
       "0      Kshera Sagar           No         No      0  Koramangala 1st Block   \n",
       "1  Melt - Eden Park          Yes        Yes    347               JP Nagar   \n",
       "\n",
       "       rest_type                                         dish_liked  \\\n",
       "0    Quick Bites                                                NaN   \n",
       "1  Casual Dining  Tandoori Chicken, Biryani, Paneer Tikka, Chick...   \n",
       "\n",
       "                                        cuisines approx_cost(for two people)  \\\n",
       "0                          North Indian, Chinese                         200   \n",
       "1  North Indian, Chinese, Thai, Mughlai, Seafood                       1,000   \n",
       "\n",
       "  listed_in(type)        listed_in(city)  Rate  \n",
       "0        Dine-out  Koramangala 5th Block   3.9  \n",
       "1          Buffet               JP Nagar   4.0  "
      ]
     },
     "execution_count": 269,
     "metadata": {},
     "output_type": "execute_result"
    }
   ],
   "source": [
    "test_df.head(2)"
   ]
  },
  {
   "cell_type": "code",
   "execution_count": 270,
   "metadata": {},
   "outputs": [],
   "source": [
    "columns = ['name','location','rest_type','listed_in(type)','listed_in(city)']\n",
    "\n",
    "test_df = columns_removal(columns=columns,df=test_df)"
   ]
  },
  {
   "cell_type": "code",
   "execution_count": 271,
   "metadata": {},
   "outputs": [
    {
     "data": {
      "text/html": [
       "<div>\n",
       "<style scoped>\n",
       "    .dataframe tbody tr th:only-of-type {\n",
       "        vertical-align: middle;\n",
       "    }\n",
       "\n",
       "    .dataframe tbody tr th {\n",
       "        vertical-align: top;\n",
       "    }\n",
       "\n",
       "    .dataframe thead th {\n",
       "        text-align: right;\n",
       "    }\n",
       "</style>\n",
       "<table border=\"1\" class=\"dataframe\">\n",
       "  <thead>\n",
       "    <tr style=\"text-align: right;\">\n",
       "      <th></th>\n",
       "      <th>online_order</th>\n",
       "      <th>book_table</th>\n",
       "      <th>votes</th>\n",
       "      <th>dish_liked</th>\n",
       "      <th>cuisines</th>\n",
       "      <th>approx_cost(for two people)</th>\n",
       "      <th>Rate</th>\n",
       "    </tr>\n",
       "  </thead>\n",
       "  <tbody>\n",
       "    <tr>\n",
       "      <th>0</th>\n",
       "      <td>No</td>\n",
       "      <td>No</td>\n",
       "      <td>0</td>\n",
       "      <td>NaN</td>\n",
       "      <td>North Indian, Chinese</td>\n",
       "      <td>200</td>\n",
       "      <td>3.9</td>\n",
       "    </tr>\n",
       "    <tr>\n",
       "      <th>1</th>\n",
       "      <td>Yes</td>\n",
       "      <td>Yes</td>\n",
       "      <td>347</td>\n",
       "      <td>Tandoori Chicken, Biryani, Paneer Tikka, Chick...</td>\n",
       "      <td>North Indian, Chinese, Thai, Mughlai, Seafood</td>\n",
       "      <td>1,000</td>\n",
       "      <td>4.0</td>\n",
       "    </tr>\n",
       "    <tr>\n",
       "      <th>2</th>\n",
       "      <td>No</td>\n",
       "      <td>No</td>\n",
       "      <td>9</td>\n",
       "      <td>NaN</td>\n",
       "      <td>South Indian, Chinese</td>\n",
       "      <td>400</td>\n",
       "      <td>3.4</td>\n",
       "    </tr>\n",
       "  </tbody>\n",
       "</table>\n",
       "</div>"
      ],
      "text/plain": [
       "  online_order book_table  votes  \\\n",
       "0           No         No      0   \n",
       "1          Yes        Yes    347   \n",
       "2           No         No      9   \n",
       "\n",
       "                                          dish_liked  \\\n",
       "0                                                NaN   \n",
       "1  Tandoori Chicken, Biryani, Paneer Tikka, Chick...   \n",
       "2                                                NaN   \n",
       "\n",
       "                                        cuisines approx_cost(for two people)  \\\n",
       "0                          North Indian, Chinese                         200   \n",
       "1  North Indian, Chinese, Thai, Mughlai, Seafood                       1,000   \n",
       "2                          South Indian, Chinese                         400   \n",
       "\n",
       "   Rate  \n",
       "0   3.9  \n",
       "1   4.0  \n",
       "2   3.4  "
      ]
     },
     "execution_count": 271,
     "metadata": {},
     "output_type": "execute_result"
    }
   ],
   "source": [
    "test_df.head(3)"
   ]
  },
  {
   "cell_type": "code",
   "execution_count": 272,
   "metadata": {},
   "outputs": [],
   "source": [
    "def cat_change(value):\n",
    "    try:\n",
    "        if value == 'No':\n",
    "            return 0\n",
    "        else:\n",
    "            return 1\n",
    "    except Exception as e:\n",
    "        print(str(e))"
   ]
  },
  {
   "cell_type": "code",
   "execution_count": 273,
   "metadata": {},
   "outputs": [],
   "source": [
    "from Restaurant.util.util import count\n",
    "\n",
    "test_df['dish_liked'] = test_df['dish_liked'].apply(count)\n",
    "test_df['cuisines'] = test_df['cuisines'].apply(count)\n",
    "\n",
    "test_df['online_order'] = test_df['online_order'].apply(cat_change)\n",
    "test_df['book_table'] = test_df['book_table'].apply(cat_change)"
   ]
  },
  {
   "cell_type": "code",
   "execution_count": 274,
   "metadata": {},
   "outputs": [],
   "source": [
    "test_df['approx_cost(for two people)'] = test_df['approx_cost(for two people)'].str.replace(\",\",\"\")\n",
    "test_df['approx_cost(for two people)'] = pd.to_numeric(test_df['approx_cost(for two people)'])"
   ]
  },
  {
   "cell_type": "code",
   "execution_count": 275,
   "metadata": {},
   "outputs": [
    {
     "data": {
      "text/html": [
       "<div>\n",
       "<style scoped>\n",
       "    .dataframe tbody tr th:only-of-type {\n",
       "        vertical-align: middle;\n",
       "    }\n",
       "\n",
       "    .dataframe tbody tr th {\n",
       "        vertical-align: top;\n",
       "    }\n",
       "\n",
       "    .dataframe thead th {\n",
       "        text-align: right;\n",
       "    }\n",
       "</style>\n",
       "<table border=\"1\" class=\"dataframe\">\n",
       "  <thead>\n",
       "    <tr style=\"text-align: right;\">\n",
       "      <th></th>\n",
       "      <th>online_order</th>\n",
       "      <th>book_table</th>\n",
       "      <th>votes</th>\n",
       "      <th>dish_liked</th>\n",
       "      <th>cuisines</th>\n",
       "      <th>approx_cost(for two people)</th>\n",
       "      <th>Rate</th>\n",
       "    </tr>\n",
       "  </thead>\n",
       "  <tbody>\n",
       "    <tr>\n",
       "      <th>0</th>\n",
       "      <td>0</td>\n",
       "      <td>0</td>\n",
       "      <td>0</td>\n",
       "      <td>0</td>\n",
       "      <td>2</td>\n",
       "      <td>200.0</td>\n",
       "      <td>3.9</td>\n",
       "    </tr>\n",
       "    <tr>\n",
       "      <th>1</th>\n",
       "      <td>1</td>\n",
       "      <td>1</td>\n",
       "      <td>347</td>\n",
       "      <td>7</td>\n",
       "      <td>5</td>\n",
       "      <td>1000.0</td>\n",
       "      <td>4.0</td>\n",
       "    </tr>\n",
       "    <tr>\n",
       "      <th>2</th>\n",
       "      <td>0</td>\n",
       "      <td>0</td>\n",
       "      <td>9</td>\n",
       "      <td>0</td>\n",
       "      <td>2</td>\n",
       "      <td>400.0</td>\n",
       "      <td>3.4</td>\n",
       "    </tr>\n",
       "  </tbody>\n",
       "</table>\n",
       "</div>"
      ],
      "text/plain": [
       "   online_order  book_table  votes  dish_liked  cuisines  \\\n",
       "0             0           0      0           0         2   \n",
       "1             1           1    347           7         5   \n",
       "2             0           0      9           0         2   \n",
       "\n",
       "   approx_cost(for two people)  Rate  \n",
       "0                        200.0   3.9  \n",
       "1                       1000.0   4.0  \n",
       "2                        400.0   3.4  "
      ]
     },
     "execution_count": 275,
     "metadata": {},
     "output_type": "execute_result"
    }
   ],
   "source": [
    "test_df.head(3)"
   ]
  },
  {
   "cell_type": "code",
   "execution_count": 276,
   "metadata": {},
   "outputs": [
    {
     "name": "stdout",
     "output_type": "stream",
     "text": [
      "(10344, 7)\n",
      "(array([], dtype=int64),)\n",
      "(array([], dtype=int64),)\n",
      "(10344, 7)\n",
      "(array([    0,     1,     2, ..., 10341, 10342, 10343], dtype=int64),)\n",
      "(array([    0,     2,     3, ..., 10341, 10342, 10343], dtype=int64),)\n",
      "(10344, 7)\n",
      "(array([    5,    16,    20, ..., 10333, 10337, 10343], dtype=int64),)\n",
      "(array([], dtype=int64),)\n",
      "(10344, 7)\n",
      "(array([], dtype=int64),)\n",
      "(array([], dtype=int64),)\n",
      "(10344, 7)\n",
      "(array([    1,    16,    56,    60,    83,    84,    96,   134,   142,\n",
      "         176,   195,   226,   241,   264,   276,   285,   320,   354,\n",
      "         359,   370,   380,   383,   400,   409,   410,   430,   434,\n",
      "         471,   476,   478,   495,   505,   516,   518,   522,   535,\n",
      "         544,   546,   560,   567,   598,   604,   607,   615,   620,\n",
      "         633,   652,   661,   669,   670,   674,   676,   691,   694,\n",
      "         706,   709,   710,   720,   743,   762,   803,   808,   812,\n",
      "         817,   847,   849,   865,   866,   944,   993,  1027,  1030,\n",
      "        1032,  1044,  1052,  1082,  1097,  1110,  1129,  1147,  1190,\n",
      "        1214,  1225,  1243,  1256,  1258,  1272,  1275,  1288,  1305,\n",
      "        1335,  1337,  1369,  1371,  1426,  1428,  1456,  1459,  1500,\n",
      "        1506,  1511,  1513,  1523,  1532,  1651,  1653,  1674,  1688,\n",
      "        1712,  1727,  1730,  1737,  1748,  1758,  1767,  1789,  1798,\n",
      "        1807,  1810,  1817,  1830,  1831,  1835,  1864,  1882,  1899,\n",
      "        1922,  1929,  1950,  1953,  1960,  1967,  1975,  2017,  2048,\n",
      "        2063,  2075,  2080,  2087,  2089,  2093,  2101,  2102,  2108,\n",
      "        2126,  2137,  2142,  2172,  2198,  2208,  2210,  2214,  2223,\n",
      "        2285,  2296,  2304,  2334,  2350,  2397,  2398,  2431,  2449,\n",
      "        2467,  2476,  2487,  2500,  2510,  2538,  2544,  2578,  2597,\n",
      "        2599,  2604,  2618,  2623,  2641,  2684,  2699,  2715,  2718,\n",
      "        2730,  2736,  2749,  2775,  2814,  2840,  2870,  2881,  2899,\n",
      "        2905,  2917,  2918,  2919,  2966,  2971,  2992,  3024,  3051,\n",
      "        3119,  3126,  3157,  3167,  3175,  3182,  3198,  3215,  3235,\n",
      "        3251,  3257,  3267,  3286,  3299,  3301,  3327,  3332,  3336,\n",
      "        3367,  3385,  3442,  3443,  3447,  3448,  3467,  3480,  3518,\n",
      "        3533,  3573,  3582,  3593,  3613,  3620,  3651,  3680,  3682,\n",
      "        3719,  3727,  3738,  3739,  3773,  3808,  3809,  3815,  3836,\n",
      "        3873,  3888,  3889,  3909,  3931,  3951,  3966,  3976,  4014,\n",
      "        4031,  4045,  4110,  4116,  4126,  4155,  4208,  4210,  4221,\n",
      "        4247,  4248,  4270,  4274,  4281,  4286,  4287,  4321,  4338,\n",
      "        4346,  4349,  4359,  4376,  4432,  4446,  4450,  4458,  4467,\n",
      "        4476,  4489,  4492,  4498,  4504,  4509,  4516,  4518,  4519,\n",
      "        4548,  4551,  4574,  4652,  4688,  4693,  4708,  4720,  4757,\n",
      "        4774,  4779,  4786,  4796,  4805,  4832,  4836,  4842,  4844,\n",
      "        4879,  4927,  4937,  4973,  4989,  5008,  5028,  5038,  5046,\n",
      "        5119,  5147,  5156,  5161,  5182,  5221,  5223,  5225,  5275,\n",
      "        5287,  5294,  5303,  5325,  5341,  5349,  5385,  5401,  5500,\n",
      "        5532,  5541,  5555,  5562,  5564,  5575,  5594,  5632,  5636,\n",
      "        5645,  5651,  5678,  5697,  5702,  5703,  5723,  5727,  5729,\n",
      "        5733,  5741,  5760,  5769,  5783,  5793,  5827,  5846,  5861,\n",
      "        5863,  5915,  5930,  5944,  5956,  5985,  5991,  5992,  5994,\n",
      "        6024,  6046,  6057,  6060,  6064,  6066,  6068,  6085,  6092,\n",
      "        6114,  6152,  6155,  6168,  6172,  6173,  6186,  6187,  6210,\n",
      "        6221,  6231,  6266,  6267,  6288,  6295,  6309,  6321,  6323,\n",
      "        6339,  6351,  6381,  6436,  6442,  6482,  6502,  6518,  6519,\n",
      "        6561,  6572,  6594,  6596,  6597,  6599,  6611,  6625,  6629,\n",
      "        6630,  6650,  6700,  6714,  6720,  6748,  6757,  6767,  6789,\n",
      "        6813,  6853,  6870,  6887,  6933,  6944,  6946,  6948,  6949,\n",
      "        6992,  7030,  7063,  7068,  7090,  7138,  7154,  7160,  7163,\n",
      "        7168,  7169,  7178,  7183,  7188,  7219,  7228,  7230,  7234,\n",
      "        7240,  7265,  7267,  7328,  7336,  7337,  7352,  7371,  7391,\n",
      "        7392,  7397,  7422,  7433,  7435,  7440,  7448,  7458,  7459,\n",
      "        7461,  7478,  7479,  7480,  7481,  7525,  7542,  7575,  7614,\n",
      "        7617,  7627,  7661,  7705,  7742,  7745,  7750,  7754,  7781,\n",
      "        7782,  7821,  7846,  7848,  7851,  7864,  7898,  7906,  7911,\n",
      "        7932,  7962,  7984,  7990,  7992,  8013,  8029,  8041,  8060,\n",
      "        8080,  8103,  8109,  8124,  8149,  8153,  8156,  8202,  8216,\n",
      "        8226,  8230,  8240,  8265,  8270,  8272,  8279,  8350,  8360,\n",
      "        8394,  8395,  8408,  8410,  8423,  8454,  8491,  8495,  8509,\n",
      "        8519,  8520,  8523,  8564,  8571,  8595,  8598,  8602,  8637,\n",
      "        8645,  8647,  8666,  8668,  8701,  8724,  8744,  8777,  8799,\n",
      "        8812,  8831,  8832,  8872,  8879,  8903,  8909,  8950,  8956,\n",
      "        8976,  9007,  9011,  9018,  9039,  9054,  9073,  9079,  9092,\n",
      "        9096,  9124,  9126,  9154,  9164,  9173,  9185,  9206,  9208,\n",
      "        9221,  9241,  9249,  9266,  9270,  9280,  9301,  9307,  9333,\n",
      "        9352,  9355,  9382,  9385,  9468,  9495,  9504,  9505,  9520,\n",
      "        9558,  9576,  9580,  9610,  9623,  9672,  9704,  9718,  9723,\n",
      "        9742,  9744,  9749,  9784,  9787,  9796,  9825,  9844,  9874,\n",
      "        9882,  9919,  9924,  9942,  9944,  9991, 10019, 10036, 10047,\n",
      "       10053, 10062, 10074, 10077, 10087, 10098, 10100, 10105, 10106,\n",
      "       10158, 10173, 10179, 10186, 10197, 10203, 10219, 10237, 10262,\n",
      "       10270, 10272, 10291, 10301, 10312, 10323], dtype=int64),)\n",
      "(array([    9,    10,    11, ..., 10332, 10335, 10336], dtype=int64),)\n",
      "(10344, 7)\n",
      "(array([], dtype=int64),)\n",
      "(array([], dtype=int64),)\n",
      "(10344, 7)\n",
      "(array([   83,   196,   233,   264,   271,   445,   480,   511,   535,\n",
      "         544,   604,   623,   676,   730,   743,   762,   768,   788,\n",
      "         803,   808,   839,   851,   927,   942,   947,   969,  1002,\n",
      "        1004,  1115,  1121,  1302,  1312,  1319,  1377,  1398,  1402,\n",
      "        1506,  1529,  1550,  1625,  1761,  1804,  1812,  1817,  1883,\n",
      "        1885,  1899,  1923,  1943,  1951,  1967,  1974,  1991,  1994,\n",
      "        2070,  2117,  2198,  2204,  2333,  2346,  2350,  2365,  2372,\n",
      "        2392,  2397,  2424,  2430,  2483,  2578,  2581,  2623,  2647,\n",
      "        2684,  2692,  2733,  2787,  2823,  2827,  2831,  2881,  2961,\n",
      "        3011,  3012,  3068,  3106,  3235,  3253,  3286,  3299,  3312,\n",
      "        3367,  3394,  3402,  3410,  3514,  3528,  3584,  3689,  3793,\n",
      "        3824,  3952,  3966,  4029,  4182,  4243,  4263,  4280,  4321,\n",
      "        4390,  4395,  4520,  4557,  4569,  4580,  4652,  4675,  4693,\n",
      "        4709,  4713,  4716,  4796,  4805,  4879,  4949,  5023,  5086,\n",
      "        5094,  5100,  5102,  5129,  5174,  5225,  5238,  5276,  5352,\n",
      "        5358,  5363,  5405,  5624,  5643,  5649,  5673,  5689,  5705,\n",
      "        5723,  5732,  5765,  5783,  5793,  5845,  5850,  5915,  5919,\n",
      "        5961,  6005,  6068,  6082,  6129,  6187,  6266,  6321,  6351,\n",
      "        6357,  6396,  6414,  6518,  6540,  6564,  6584,  6605,  6701,\n",
      "        6720,  6733,  6739,  6757,  6765,  6796,  6985,  7003,  7130,\n",
      "        7142,  7154,  7176,  7198,  7207,  7228,  7234,  7282,  7461,\n",
      "        7502,  7519,  7524,  7563,  7578,  7642,  7662,  7697,  7742,\n",
      "        7748,  7824,  7835,  7874,  7892,  7906,  7942,  8018,  8103,\n",
      "        8135,  8142,  8156,  8192,  8230,  8233,  8254,  8257,  8270,\n",
      "        8298,  8303,  8388,  8395,  8409,  8418,  8450,  8505,  8561,\n",
      "        8619,  8637,  8813,  8897,  8904,  8909,  9018,  9145,  9193,\n",
      "        9221,  9307,  9308,  9333,  9409,  9415,  9485,  9500,  9507,\n",
      "        9517,  9520,  9531,  9539,  9672,  9691,  9778,  9787,  9800,\n",
      "        9805,  9821,  9823,  9840,  9856, 10047, 10057, 10073, 10162,\n",
      "       10179, 10337, 10343], dtype=int64),)\n",
      "(array([    4,     6,    13, ..., 10329, 10341, 10342], dtype=int64),)\n"
     ]
    }
   ],
   "source": [
    "from operator import index\n",
    "from textwrap import indent\n",
    "import numpy as np\n",
    "\n",
    "for column in test_df.columns:\n",
    "    #outliers = []\n",
    "    print(test_df.shape)\n",
    "    Q1,Q3 = np.percentile(test_df[column],[25,75])\n",
    "    IQR = Q3-Q1\n",
    "    upper_fence = np.where(test_df[column]>=(Q3+1.5*IQR))\n",
    "    #outliers.append(upper_fence)\n",
    "    print(upper_fence)\n",
    "    lower_fence = np.where(test_df[column]<=(Q3-1.5*IQR))\n",
    "    print(lower_fence)\n",
    "for i in upper_fence[0]:\n",
    "    if i in test_df.index.values:\n",
    "        test_df.drop(index=i,inplace=True)\n",
    "    if i in test_df.index.values:\n",
    "        test_df.drop(index=i,inplace=True)\n",
    "        print(test_df.shape)\n",
    "    \n",
    "\n"
   ]
  },
  {
   "cell_type": "code",
   "execution_count": 315,
   "metadata": {},
   "outputs": [
    {
     "name": "stdout",
     "output_type": "stream",
     "text": [
      "capping the  online_order\n",
      "capping the  book_table\n",
      "capping the  votes\n",
      "capping the  dish_liked\n",
      "capping the  cuisines\n",
      "capping the  approx_cost(for two people)\n",
      "capping the  Rate\n"
     ]
    },
    {
     "name": "stderr",
     "output_type": "stream",
     "text": [
      "d:\\Restaurant_Rating_Prediction\\venv\\lib\\site-packages\\ipykernel_launcher.py:6: SettingWithCopyWarning: \n",
      "A value is trying to be set on a copy of a slice from a DataFrame\n",
      "\n",
      "See the caveats in the documentation: https://pandas.pydata.org/pandas-docs/stable/user_guide/indexing.html#returning-a-view-versus-a-copy\n",
      "  \n",
      "d:\\Restaurant_Rating_Prediction\\venv\\lib\\site-packages\\ipykernel_launcher.py:7: SettingWithCopyWarning: \n",
      "A value is trying to be set on a copy of a slice from a DataFrame\n",
      "\n",
      "See the caveats in the documentation: https://pandas.pydata.org/pandas-docs/stable/user_guide/indexing.html#returning-a-view-versus-a-copy\n",
      "  import sys\n",
      "d:\\Restaurant_Rating_Prediction\\venv\\lib\\site-packages\\ipykernel_launcher.py:6: SettingWithCopyWarning: \n",
      "A value is trying to be set on a copy of a slice from a DataFrame\n",
      "\n",
      "See the caveats in the documentation: https://pandas.pydata.org/pandas-docs/stable/user_guide/indexing.html#returning-a-view-versus-a-copy\n",
      "  \n",
      "d:\\Restaurant_Rating_Prediction\\venv\\lib\\site-packages\\ipykernel_launcher.py:7: SettingWithCopyWarning: \n",
      "A value is trying to be set on a copy of a slice from a DataFrame\n",
      "\n",
      "See the caveats in the documentation: https://pandas.pydata.org/pandas-docs/stable/user_guide/indexing.html#returning-a-view-versus-a-copy\n",
      "  import sys\n",
      "d:\\Restaurant_Rating_Prediction\\venv\\lib\\site-packages\\ipykernel_launcher.py:6: SettingWithCopyWarning: \n",
      "A value is trying to be set on a copy of a slice from a DataFrame\n",
      "\n",
      "See the caveats in the documentation: https://pandas.pydata.org/pandas-docs/stable/user_guide/indexing.html#returning-a-view-versus-a-copy\n",
      "  \n",
      "d:\\Restaurant_Rating_Prediction\\venv\\lib\\site-packages\\ipykernel_launcher.py:7: SettingWithCopyWarning: \n",
      "A value is trying to be set on a copy of a slice from a DataFrame\n",
      "\n",
      "See the caveats in the documentation: https://pandas.pydata.org/pandas-docs/stable/user_guide/indexing.html#returning-a-view-versus-a-copy\n",
      "  import sys\n"
     ]
    },
    {
     "data": {
      "text/html": [
       "<div>\n",
       "<style scoped>\n",
       "    .dataframe tbody tr th:only-of-type {\n",
       "        vertical-align: middle;\n",
       "    }\n",
       "\n",
       "    .dataframe tbody tr th {\n",
       "        vertical-align: top;\n",
       "    }\n",
       "\n",
       "    .dataframe thead th {\n",
       "        text-align: right;\n",
       "    }\n",
       "</style>\n",
       "<table border=\"1\" class=\"dataframe\">\n",
       "  <thead>\n",
       "    <tr style=\"text-align: right;\">\n",
       "      <th></th>\n",
       "      <th>online_order</th>\n",
       "      <th>book_table</th>\n",
       "      <th>votes</th>\n",
       "      <th>dish_liked</th>\n",
       "      <th>cuisines</th>\n",
       "      <th>approx_cost(for two people)</th>\n",
       "      <th>Rate</th>\n",
       "    </tr>\n",
       "  </thead>\n",
       "  <tbody>\n",
       "    <tr>\n",
       "      <th>0</th>\n",
       "      <td>0</td>\n",
       "      <td>0</td>\n",
       "      <td>0.0</td>\n",
       "      <td>2</td>\n",
       "      <td>2</td>\n",
       "      <td>200.0</td>\n",
       "      <td>3.9</td>\n",
       "    </tr>\n",
       "    <tr>\n",
       "      <th>1</th>\n",
       "      <td>1</td>\n",
       "      <td>1</td>\n",
       "      <td>347.0</td>\n",
       "      <td>7</td>\n",
       "      <td>5</td>\n",
       "      <td>1000.0</td>\n",
       "      <td>4.0</td>\n",
       "    </tr>\n",
       "    <tr>\n",
       "      <th>2</th>\n",
       "      <td>0</td>\n",
       "      <td>0</td>\n",
       "      <td>9.0</td>\n",
       "      <td>2</td>\n",
       "      <td>2</td>\n",
       "      <td>400.0</td>\n",
       "      <td>3.4</td>\n",
       "    </tr>\n",
       "    <tr>\n",
       "      <th>3</th>\n",
       "      <td>1</td>\n",
       "      <td>0</td>\n",
       "      <td>33.0</td>\n",
       "      <td>2</td>\n",
       "      <td>2</td>\n",
       "      <td>200.0</td>\n",
       "      <td>3.9</td>\n",
       "    </tr>\n",
       "    <tr>\n",
       "      <th>4</th>\n",
       "      <td>1</td>\n",
       "      <td>0</td>\n",
       "      <td>142.0</td>\n",
       "      <td>7</td>\n",
       "      <td>3</td>\n",
       "      <td>450.0</td>\n",
       "      <td>3.1</td>\n",
       "    </tr>\n",
       "  </tbody>\n",
       "</table>\n",
       "</div>"
      ],
      "text/plain": [
       "   online_order  book_table  votes  dish_liked  cuisines  \\\n",
       "0             0           0    0.0           2         2   \n",
       "1             1           1  347.0           7         5   \n",
       "2             0           0    9.0           2         2   \n",
       "3             1           0   33.0           2         2   \n",
       "4             1           0  142.0           7         3   \n",
       "\n",
       "   approx_cost(for two people)  Rate  \n",
       "0                        200.0   3.9  \n",
       "1                       1000.0   4.0  \n",
       "2                        400.0   3.4  \n",
       "3                        200.0   3.9  \n",
       "4                        450.0   3.1  "
      ]
     },
     "execution_count": 315,
     "metadata": {},
     "output_type": "execute_result"
    }
   ],
   "source": [
    "def cap_data(df):\n",
    "    for col in df.columns:\n",
    "        print(\"capping the \",col)\n",
    "        if (((df[col].dtype)=='float64') | ((df[col].dtype)=='int64')):\n",
    "            percentiles = df[col].quantile([0.01,0.99]).values\n",
    "            df[col][df[col] <= percentiles[0]] = percentiles[0]\n",
    "            df[col][df[col] >= percentiles[1]] = percentiles[1]\n",
    "        else:\n",
    "            df[col]=df[col]\n",
    "    return df\n",
    "\n",
    "final_df=cap_data(test_df)\n",
    "final_df.head()"
   ]
  },
  {
   "cell_type": "code",
   "execution_count": 316,
   "metadata": {},
   "outputs": [
    {
     "data": {
      "text/plain": [
       "{'whiskers': [<matplotlib.lines.Line2D at 0x1aef3ebfc50>,\n",
       "  <matplotlib.lines.Line2D at 0x1aef3ebfe48>],\n",
       " 'caps': [<matplotlib.lines.Line2D at 0x1aef3e8ec50>,\n",
       "  <matplotlib.lines.Line2D at 0x1aef3ece438>],\n",
       " 'boxes': [<matplotlib.lines.Line2D at 0x1aef3ebf940>],\n",
       " 'medians': [<matplotlib.lines.Line2D at 0x1aef3ece710>],\n",
       " 'fliers': [<matplotlib.lines.Line2D at 0x1aef3ece9e8>],\n",
       " 'means': []}"
      ]
     },
     "execution_count": 316,
     "metadata": {},
     "output_type": "execute_result"
    },
    {
     "data": {
      "image/png": "[encoded data removed]",
      "text/plain": [
       "<Figure size 640x480 with 1 Axes>"
      ]
     },
     "metadata": {},
     "output_type": "display_data"
    }
   ],
   "source": [
    "import matplotlib.pyplot as plt\n",
    "\n",
    "plt.boxplot(final_df['online_order'])"
   ]
  },
  {
   "cell_type": "code",
   "execution_count": 78,
   "metadata": {},
   "outputs": [
    {
     "data": {
      "text/plain": [
       "{'whiskers': [<matplotlib.lines.Line2D at 0x1aed18c7c88>,\n",
       "  <matplotlib.lines.Line2D at 0x1aed1908400>],\n",
       " 'caps': [<matplotlib.lines.Line2D at 0x1aed1914e10>,\n",
       "  <matplotlib.lines.Line2D at 0x1aed19083c8>],\n",
       " 'boxes': [<matplotlib.lines.Line2D at 0x1aed1914630>],\n",
       " 'medians': [<matplotlib.lines.Line2D at 0x1aed1923400>],\n",
       " 'fliers': [<matplotlib.lines.Line2D at 0x1aed19236d8>],\n",
       " 'means': []}"
      ]
     },
     "execution_count": 78,
     "metadata": {},
     "output_type": "execute_result"
    },
    {
     "data": {
      "image/png": "[encoded data removed]",
      "text/plain": [
       "<Figure size 640x480 with 1 Axes>"
      ]
     },
     "metadata": {},
     "output_type": "display_data"
    }
   ],
   "source": [
    "plt.boxplot(test_df['book_table'])"
   ]
  },
  {
   "cell_type": "code",
   "execution_count": 16,
   "metadata": {},
   "outputs": [
    {
     "data": {
      "text/plain": [
       "{'whiskers': [<matplotlib.lines.Line2D at 0x1aed0c05b38>,\n",
       "  <matplotlib.lines.Line2D at 0x1aed0bcd828>],\n",
       " 'caps': [<matplotlib.lines.Line2D at 0x1aed0c23518>,\n",
       "  <matplotlib.lines.Line2D at 0x1aed0c237f0>],\n",
       " 'boxes': [<matplotlib.lines.Line2D at 0x1aed0c13cf8>],\n",
       " 'medians': [<matplotlib.lines.Line2D at 0x1aed0c23ac8>],\n",
       " 'fliers': [<matplotlib.lines.Line2D at 0x1aed0c23da0>],\n",
       " 'means': []}"
      ]
     },
     "execution_count": 16,
     "metadata": {},
     "output_type": "execute_result"
    },
    {
     "data": {
      "image/png": "[encoded data removed]",
      "text/plain": [
       "<Figure size 640x480 with 1 Axes>"
      ]
     },
     "metadata": {},
     "output_type": "display_data"
    }
   ],
   "source": [
    "plt.boxplot(test_df['dish_liked'])"
   ]
  },
  {
   "cell_type": "code",
   "execution_count": 317,
   "metadata": {},
   "outputs": [
    {
     "data": {
      "text/plain": [
       "{'whiskers': [<matplotlib.lines.Line2D at 0x1aef3eedf60>,\n",
       "  <matplotlib.lines.Line2D at 0x1aef4041828>],\n",
       " 'caps': [<matplotlib.lines.Line2D at 0x1aef40417f0>,\n",
       "  <matplotlib.lines.Line2D at 0x1aef3efa550>],\n",
       " 'boxes': [<matplotlib.lines.Line2D at 0x1aef406ca58>],\n",
       " 'medians': [<matplotlib.lines.Line2D at 0x1aef3efa828>],\n",
       " 'fliers': [<matplotlib.lines.Line2D at 0x1aef3efab00>],\n",
       " 'means': []}"
      ]
     },
     "execution_count": 317,
     "metadata": {},
     "output_type": "execute_result"
    },
    {
     "data": {
      "image/png": "[encoded data removed]",
      "text/plain": [
       "<Figure size 640x480 with 1 Axes>"
      ]
     },
     "metadata": {},
     "output_type": "display_data"
    }
   ],
   "source": [
    "plt.boxplot(final_df['cuisines'])"
   ]
  },
  {
   "cell_type": "code",
   "execution_count": 80,
   "metadata": {},
   "outputs": [
    {
     "data": {
      "text/html": [
       "<div>\n",
       "<style scoped>\n",
       "    .dataframe tbody tr th:only-of-type {\n",
       "        vertical-align: middle;\n",
       "    }\n",
       "\n",
       "    .dataframe tbody tr th {\n",
       "        vertical-align: top;\n",
       "    }\n",
       "\n",
       "    .dataframe thead th {\n",
       "        text-align: right;\n",
       "    }\n",
       "</style>\n",
       "<table border=\"1\" class=\"dataframe\">\n",
       "  <thead>\n",
       "    <tr style=\"text-align: right;\">\n",
       "      <th></th>\n",
       "      <th>online_order</th>\n",
       "      <th>book_table</th>\n",
       "      <th>votes</th>\n",
       "      <th>dish_liked</th>\n",
       "      <th>cuisines</th>\n",
       "      <th>approx_cost(for two people)</th>\n",
       "      <th>Rate</th>\n",
       "    </tr>\n",
       "  </thead>\n",
       "  <tbody>\n",
       "    <tr>\n",
       "      <th>0.01</th>\n",
       "      <td>0.0</td>\n",
       "      <td>0.0</td>\n",
       "      <td>0.0000</td>\n",
       "      <td>0.0</td>\n",
       "      <td>1.0</td>\n",
       "      <td>100.0</td>\n",
       "      <td>2.6</td>\n",
       "    </tr>\n",
       "    <tr>\n",
       "      <th>0.99</th>\n",
       "      <td>1.0</td>\n",
       "      <td>1.0</td>\n",
       "      <td>4012.8948</td>\n",
       "      <td>7.0</td>\n",
       "      <td>7.0</td>\n",
       "      <td>2400.0</td>\n",
       "      <td>4.6</td>\n",
       "    </tr>\n",
       "  </tbody>\n",
       "</table>\n",
       "</div>"
      ],
      "text/plain": [
       "      online_order  book_table      votes  dish_liked  cuisines  \\\n",
       "0.01           0.0         0.0     0.0000         0.0       1.0   \n",
       "0.99           1.0         1.0  4012.8948         7.0       7.0   \n",
       "\n",
       "      approx_cost(for two people)  Rate  \n",
       "0.01                        100.0   2.6  \n",
       "0.99                       2400.0   4.6  "
      ]
     },
     "execution_count": 80,
     "metadata": {},
     "output_type": "execute_result"
    }
   ],
   "source": [
    "test_df.quantile([0.01,0.99])"
   ]
  },
  {
   "cell_type": "code",
   "execution_count": 81,
   "metadata": {},
   "outputs": [
    {
     "data": {
      "text/html": [
       "<div>\n",
       "<style scoped>\n",
       "    .dataframe tbody tr th:only-of-type {\n",
       "        vertical-align: middle;\n",
       "    }\n",
       "\n",
       "    .dataframe tbody tr th {\n",
       "        vertical-align: top;\n",
       "    }\n",
       "\n",
       "    .dataframe thead th {\n",
       "        text-align: right;\n",
       "    }\n",
       "</style>\n",
       "<table border=\"1\" class=\"dataframe\">\n",
       "  <thead>\n",
       "    <tr style=\"text-align: right;\">\n",
       "      <th></th>\n",
       "      <th>online_order</th>\n",
       "      <th>book_table</th>\n",
       "      <th>votes</th>\n",
       "      <th>dish_liked</th>\n",
       "      <th>cuisines</th>\n",
       "      <th>approx_cost(for two people)</th>\n",
       "      <th>Rate</th>\n",
       "    </tr>\n",
       "  </thead>\n",
       "  <tbody>\n",
       "    <tr>\n",
       "      <th>0.25</th>\n",
       "      <td>0.0</td>\n",
       "      <td>0.0</td>\n",
       "      <td>7.0</td>\n",
       "      <td>0.0</td>\n",
       "      <td>2.0</td>\n",
       "      <td>300.0</td>\n",
       "      <td>3.5</td>\n",
       "    </tr>\n",
       "    <tr>\n",
       "      <th>0.75</th>\n",
       "      <td>1.0</td>\n",
       "      <td>0.0</td>\n",
       "      <td>205.0</td>\n",
       "      <td>7.0</td>\n",
       "      <td>3.0</td>\n",
       "      <td>700.0</td>\n",
       "      <td>3.9</td>\n",
       "    </tr>\n",
       "  </tbody>\n",
       "</table>\n",
       "</div>"
      ],
      "text/plain": [
       "      online_order  book_table  votes  dish_liked  cuisines  \\\n",
       "0.25           0.0         0.0    7.0         0.0       2.0   \n",
       "0.75           1.0         0.0  205.0         7.0       3.0   \n",
       "\n",
       "      approx_cost(for two people)  Rate  \n",
       "0.25                        300.0   3.5  \n",
       "0.75                        700.0   3.9  "
      ]
     },
     "execution_count": 81,
     "metadata": {},
     "output_type": "execute_result"
    }
   ],
   "source": [
    "test_df.quantile([0.25,0.75])"
   ]
  },
  {
   "cell_type": "code",
   "execution_count": 84,
   "metadata": {},
   "outputs": [
    {
     "data": {
      "text/html": [
       "<div>\n",
       "<style scoped>\n",
       "    .dataframe tbody tr th:only-of-type {\n",
       "        vertical-align: middle;\n",
       "    }\n",
       "\n",
       "    .dataframe tbody tr th {\n",
       "        vertical-align: top;\n",
       "    }\n",
       "\n",
       "    .dataframe thead th {\n",
       "        text-align: right;\n",
       "    }\n",
       "</style>\n",
       "<table border=\"1\" class=\"dataframe\">\n",
       "  <thead>\n",
       "    <tr style=\"text-align: right;\">\n",
       "      <th></th>\n",
       "      <th>online_order</th>\n",
       "      <th>book_table</th>\n",
       "      <th>votes</th>\n",
       "      <th>dish_liked</th>\n",
       "      <th>cuisines</th>\n",
       "      <th>approx_cost(for two people)</th>\n",
       "      <th>Rate</th>\n",
       "    </tr>\n",
       "  </thead>\n",
       "  <tbody>\n",
       "    <tr>\n",
       "      <th>0.5</th>\n",
       "      <td>1.0</td>\n",
       "      <td>0.0</td>\n",
       "      <td>42.0</td>\n",
       "      <td>0.0</td>\n",
       "      <td>2.0</td>\n",
       "      <td>400.0</td>\n",
       "      <td>3.9</td>\n",
       "    </tr>\n",
       "  </tbody>\n",
       "</table>\n",
       "</div>"
      ],
      "text/plain": [
       "     online_order  book_table  votes  dish_liked  cuisines  \\\n",
       "0.5           1.0         0.0   42.0         0.0       2.0   \n",
       "\n",
       "     approx_cost(for two people)  Rate  \n",
       "0.5                        400.0   3.9  "
      ]
     },
     "execution_count": 84,
     "metadata": {},
     "output_type": "execute_result"
    }
   ],
   "source": [
    "test_df.quantile([0.50])"
   ]
  },
  {
   "cell_type": "code",
   "execution_count": 87,
   "metadata": {},
   "outputs": [
    {
     "data": {
      "text/plain": [
       "(array([8675.,  740.,  291.,  157.,  117.,  102.,   47.,   53.,   25.,\n",
       "         137.]),\n",
       " array([   0.   ,  402.564,  805.128, 1207.692, 1610.256, 2012.82 ,\n",
       "        2415.384, 2817.948, 3220.512, 3623.076, 4025.64 ]),\n",
       " <BarContainer object of 10 artists>)"
      ]
     },
     "execution_count": 87,
     "metadata": {},
     "output_type": "execute_result"
    },
    {
     "data": {
      "image/png": "[encoded data removed]",
      "text/plain": [
       "<Figure size 640x480 with 1 Axes>"
      ]
     },
     "metadata": {},
     "output_type": "display_data"
    }
   ],
   "source": [
    "plt.hist(test_df['votes'])"
   ]
  },
  {
   "cell_type": "code",
   "execution_count": 115,
   "metadata": {},
   "outputs": [
    {
     "data": {
      "text/plain": [
       "400.0"
      ]
     },
     "execution_count": 115,
     "metadata": {},
     "output_type": "execute_result"
    }
   ],
   "source": [
    "from statistics import median\n",
    "\n",
    "median_ = test_df[['approx_cost(for two people)']].median(skipna=True)\n",
    "median_[0]"
   ]
  },
  {
   "cell_type": "code",
   "execution_count": 175,
   "metadata": {},
   "outputs": [],
   "source": [
    "def fill_na(value,median_):\n",
    "    try:\n",
    "        if type(value) == float:\n",
    "            value = str(value)\n",
    "        if value == \"nan\":\n",
    "            return float(median_)\n",
    "        else:\n",
    "            return float(value)\n",
    "    except Exception as e:\n",
    "        print(str(e))"
   ]
  },
  {
   "cell_type": "code",
   "execution_count": 176,
   "metadata": {},
   "outputs": [],
   "source": [
    "test_df['approx_cost(for two people)']=test_df['approx_cost(for two people)'].apply(fill_na,args = (median_[0],))"
   ]
  },
  {
   "cell_type": "code",
   "execution_count": 177,
   "metadata": {},
   "outputs": [
    {
     "data": {
      "text/plain": [
       "0"
      ]
     },
     "execution_count": 177,
     "metadata": {},
     "output_type": "execute_result"
    }
   ],
   "source": [
    "test_df['approx_cost(for two people)'].isnull().sum()"
   ]
  },
  {
   "cell_type": "code",
   "execution_count": 144,
   "metadata": {},
   "outputs": [
    {
     "data": {
      "text/plain": [
       "online_order                     int64\n",
       "book_table                       int64\n",
       "votes                          float64\n",
       "dish_liked                       int64\n",
       "cuisines                         int64\n",
       "approx_cost(for two people)    float64\n",
       "Rate                           float64\n",
       "dtype: object"
      ]
     },
     "execution_count": 144,
     "metadata": {},
     "output_type": "execute_result"
    }
   ],
   "source": [
    "test_df.dtypes"
   ]
  },
  {
   "cell_type": "code",
   "execution_count": 152,
   "metadata": {},
   "outputs": [
    {
     "data": {
      "text/plain": [
       "array([    0,     1,     2, ..., 10341, 10342, 10343], dtype=int64)"
      ]
     },
     "execution_count": 152,
     "metadata": {},
     "output_type": "execute_result"
    }
   ],
   "source": [
    "i = 0\n",
    "if test_df.loc[0:10343] == upper_fence[0][0]"
   ]
  },
  {
   "cell_type": "code",
   "execution_count": 185,
   "metadata": {},
   "outputs": [
    {
     "data": {
      "text/html": [
       "<div>\n",
       "<style scoped>\n",
       "    .dataframe tbody tr th:only-of-type {\n",
       "        vertical-align: middle;\n",
       "    }\n",
       "\n",
       "    .dataframe tbody tr th {\n",
       "        vertical-align: top;\n",
       "    }\n",
       "\n",
       "    .dataframe thead th {\n",
       "        text-align: right;\n",
       "    }\n",
       "</style>\n",
       "<table border=\"1\" class=\"dataframe\">\n",
       "  <thead>\n",
       "    <tr style=\"text-align: right;\">\n",
       "      <th></th>\n",
       "      <th>online_order</th>\n",
       "      <th>book_table</th>\n",
       "      <th>votes</th>\n",
       "      <th>dish_liked</th>\n",
       "      <th>cuisines</th>\n",
       "      <th>approx_cost(for two people)</th>\n",
       "      <th>Rate</th>\n",
       "    </tr>\n",
       "  </thead>\n",
       "  <tbody>\n",
       "    <tr>\n",
       "      <th>0</th>\n",
       "      <td>0</td>\n",
       "      <td>0</td>\n",
       "      <td>0</td>\n",
       "      <td>0</td>\n",
       "      <td>2</td>\n",
       "      <td>200.0</td>\n",
       "      <td>3.9</td>\n",
       "    </tr>\n",
       "    <tr>\n",
       "      <th>1</th>\n",
       "      <td>1</td>\n",
       "      <td>1</td>\n",
       "      <td>347</td>\n",
       "      <td>7</td>\n",
       "      <td>5</td>\n",
       "      <td>1000.0</td>\n",
       "      <td>4.0</td>\n",
       "    </tr>\n",
       "  </tbody>\n",
       "</table>\n",
       "</div>"
      ],
      "text/plain": [
       "   online_order  book_table  votes  dish_liked  cuisines  \\\n",
       "0             0           0      0           0         2   \n",
       "1             1           1    347           7         5   \n",
       "\n",
       "   approx_cost(for two people)  Rate  \n",
       "0                        200.0   3.9  \n",
       "1                       1000.0   4.0  "
      ]
     },
     "execution_count": 185,
     "metadata": {},
     "output_type": "execute_result"
    }
   ],
   "source": [
    "test_df.head(2)"
   ]
  },
  {
   "cell_type": "code",
   "execution_count": 186,
   "metadata": {},
   "outputs": [
    {
     "data": {
      "text/plain": [
       "10343"
      ]
     },
     "execution_count": 186,
     "metadata": {},
     "output_type": "execute_result"
    }
   ],
   "source": [
    "upper_fence[0].max()"
   ]
  },
  {
   "cell_type": "code",
   "execution_count": 191,
   "metadata": {},
   "outputs": [
    {
     "data": {
      "text/plain": [
       "0"
      ]
     },
     "execution_count": 191,
     "metadata": {},
     "output_type": "execute_result"
    }
   ],
   "source": [
    "upper_fence[0].min()"
   ]
  },
  {
   "cell_type": "code",
   "execution_count": 205,
   "metadata": {},
   "outputs": [],
   "source": [
    "a = test_df.index.values"
   ]
  },
  {
   "cell_type": "code",
   "execution_count": 208,
   "metadata": {},
   "outputs": [
    {
     "data": {
      "text/plain": [
       "array([    0,     1,     2, ..., 10341, 10342, 10343], dtype=int64)"
      ]
     },
     "execution_count": 208,
     "metadata": {},
     "output_type": "execute_result"
    }
   ],
   "source": [
    "a"
   ]
  },
  {
   "cell_type": "code",
   "execution_count": null,
   "metadata": {},
   "outputs": [],
   "source": []
  },
  {
   "cell_type": "code",
   "execution_count": 280,
   "metadata": {},
   "outputs": [
    {
     "data": {
      "text/html": [
       "<div>\n",
       "<style scoped>\n",
       "    .dataframe tbody tr th:only-of-type {\n",
       "        vertical-align: middle;\n",
       "    }\n",
       "\n",
       "    .dataframe tbody tr th {\n",
       "        vertical-align: top;\n",
       "    }\n",
       "\n",
       "    .dataframe thead th {\n",
       "        text-align: right;\n",
       "    }\n",
       "</style>\n",
       "<table border=\"1\" class=\"dataframe\">\n",
       "  <thead>\n",
       "    <tr style=\"text-align: right;\">\n",
       "      <th></th>\n",
       "      <th>online_order</th>\n",
       "      <th>book_table</th>\n",
       "      <th>votes</th>\n",
       "      <th>dish_liked</th>\n",
       "      <th>cuisines</th>\n",
       "      <th>approx_cost(for two people)</th>\n",
       "      <th>Rate</th>\n",
       "    </tr>\n",
       "  </thead>\n",
       "  <tbody>\n",
       "    <tr>\n",
       "      <th>0</th>\n",
       "      <td>0</td>\n",
       "      <td>0</td>\n",
       "      <td>0.0</td>\n",
       "      <td>0</td>\n",
       "      <td>2</td>\n",
       "      <td>200.0</td>\n",
       "      <td>3.9</td>\n",
       "    </tr>\n",
       "    <tr>\n",
       "      <th>1</th>\n",
       "      <td>1</td>\n",
       "      <td>1</td>\n",
       "      <td>347.0</td>\n",
       "      <td>7</td>\n",
       "      <td>5</td>\n",
       "      <td>1000.0</td>\n",
       "      <td>4.0</td>\n",
       "    </tr>\n",
       "    <tr>\n",
       "      <th>2</th>\n",
       "      <td>0</td>\n",
       "      <td>0</td>\n",
       "      <td>9.0</td>\n",
       "      <td>0</td>\n",
       "      <td>2</td>\n",
       "      <td>400.0</td>\n",
       "      <td>3.4</td>\n",
       "    </tr>\n",
       "    <tr>\n",
       "      <th>3</th>\n",
       "      <td>1</td>\n",
       "      <td>0</td>\n",
       "      <td>33.0</td>\n",
       "      <td>0</td>\n",
       "      <td>2</td>\n",
       "      <td>200.0</td>\n",
       "      <td>3.9</td>\n",
       "    </tr>\n",
       "    <tr>\n",
       "      <th>4</th>\n",
       "      <td>1</td>\n",
       "      <td>0</td>\n",
       "      <td>142.0</td>\n",
       "      <td>7</td>\n",
       "      <td>3</td>\n",
       "      <td>450.0</td>\n",
       "      <td>3.1</td>\n",
       "    </tr>\n",
       "  </tbody>\n",
       "</table>\n",
       "</div>"
      ],
      "text/plain": [
       "   online_order  book_table  votes  dish_liked  cuisines  \\\n",
       "0             0           0    0.0           0         2   \n",
       "1             1           1  347.0           7         5   \n",
       "2             0           0    9.0           0         2   \n",
       "3             1           0   33.0           0         2   \n",
       "4             1           0  142.0           7         3   \n",
       "\n",
       "   approx_cost(for two people)  Rate  \n",
       "0                        200.0   3.9  \n",
       "1                       1000.0   4.0  \n",
       "2                        400.0   3.4  \n",
       "3                        200.0   3.9  \n",
       "4                        450.0   3.1  "
      ]
     },
     "execution_count": 280,
     "metadata": {},
     "output_type": "execute_result"
    }
   ],
   "source": [
    "test_df.head()"
   ]
  },
  {
   "cell_type": "code",
   "execution_count": 282,
   "metadata": {},
   "outputs": [
    {
     "data": {
      "text/plain": [
       "(array([2466., 3518.,    0., 2370.,    0., 1148.,  349.,    0.,  111.,\n",
       "         118.]),\n",
       " array([1. , 1.6, 2.2, 2.8, 3.4, 4. , 4.6, 5.2, 5.8, 6.4, 7. ]),\n",
       " <BarContainer object of 10 artists>)"
      ]
     },
     "execution_count": 282,
     "metadata": {},
     "output_type": "execute_result"
    },
    {
     "data": {
      "image/png": "[encoded data removed]",
      "text/plain": [
       "<Figure size 640x480 with 1 Axes>"
      ]
     },
     "metadata": {},
     "output_type": "display_data"
    }
   ],
   "source": [
    "plt.hist(test_df['cuisines'])"
   ]
  },
  {
   "cell_type": "code",
   "execution_count": 283,
   "metadata": {},
   "outputs": [
    {
     "data": {
      "text/plain": [
       "(array([5532.,  375.,  421.,    0.,  369.,  314.,    0.,  271.,  252.,\n",
       "        2546.]),\n",
       " array([0. , 0.7, 1.4, 2.1, 2.8, 3.5, 4.2, 4.9, 5.6, 6.3, 7. ]),\n",
       " <BarContainer object of 10 artists>)"
      ]
     },
     "execution_count": 283,
     "metadata": {},
     "output_type": "execute_result"
    },
    {
     "data": {
      "image/png": "[encoded data removed]",
      "text/plain": [
       "<Figure size 640x480 with 1 Axes>"
      ]
     },
     "metadata": {},
     "output_type": "display_data"
    }
   ],
   "source": [
    "plt.hist(test_df['dish_liked'])"
   ]
  },
  {
   "cell_type": "code",
   "execution_count": 284,
   "metadata": {},
   "outputs": [],
   "source": [
    "def fill(value,mode):\n",
    "    try:\n",
    "        if value == 0:\n",
    "            return mode\n",
    "        else:\n",
    "            return value\n",
    "    except Exception as e:\n",
    "        print(str(e))"
   ]
  },
  {
   "cell_type": "code",
   "execution_count": 289,
   "metadata": {},
   "outputs": [
    {
     "data": {
      "text/plain": [
       "2"
      ]
     },
     "execution_count": 289,
     "metadata": {},
     "output_type": "execute_result"
    }
   ],
   "source": [
    "from statistics import mode,median,mean\n",
    "\n",
    "mediann = round(mean(test_df['dish_liked']))\n",
    "\n",
    "mediann"
   ]
  },
  {
   "cell_type": "code",
   "execution_count": 290,
   "metadata": {},
   "outputs": [],
   "source": [
    "test_df['dish_liked'] = test_df['dish_liked'].apply(fill,args=(mediann,))"
   ]
  },
  {
   "cell_type": "code",
   "execution_count": 291,
   "metadata": {},
   "outputs": [
    {
     "data": {
      "text/plain": [
       "(array([ 375., 5953.,    0.,  369.,    0.,  314.,  271.,    0.,  252.,\n",
       "        2546.]),\n",
       " array([1. , 1.6, 2.2, 2.8, 3.4, 4. , 4.6, 5.2, 5.8, 6.4, 7. ]),\n",
       " <BarContainer object of 10 artists>)"
      ]
     },
     "execution_count": 291,
     "metadata": {},
     "output_type": "execute_result"
    },
    {
     "data": {
      "image/png": "[encoded data removed]",
      "text/plain": [
       "<Figure size 640x480 with 1 Axes>"
      ]
     },
     "metadata": {},
     "output_type": "display_data"
    }
   ],
   "source": [
    "plt.hist(test_df['dish_liked'])"
   ]
  },
  {
   "cell_type": "code",
   "execution_count": 312,
   "metadata": {},
   "outputs": [
    {
     "data": {
      "text/plain": [
       "<BarContainer object of 10080 artists>"
      ]
     },
     "execution_count": 312,
     "metadata": {},
     "output_type": "execute_result"
    },
    {
     "data": {
      "image/png": "[encoded data removed]",
      "text/plain": [
       "<Figure size 500x500 with 1 Axes>"
      ]
     },
     "metadata": {},
     "output_type": "display_data"
    }
   ],
   "source": [
    "plt.figure(figsize=(5,5))\n",
    "plt.bar(test_df['cuisines'],width=0.35,height=0.5)\n"
   ]
  },
  {
   "cell_type": "code",
   "execution_count": 320,
   "metadata": {},
   "outputs": [
    {
     "data": {
      "text/plain": [
       "int"
      ]
     },
     "execution_count": 320,
     "metadata": {},
     "output_type": "execute_result"
    }
   ],
   "source": [
    "mod = round(median(test_df['cuisines']))\n",
    "type(mod)"
   ]
  },
  {
   "cell_type": "code",
   "execution_count": 297,
   "metadata": {},
   "outputs": [],
   "source": [
    "test_df['cuisines'] = test_df['cuisines'].apply(fill,args=(mod,))"
   ]
  },
  {
   "cell_type": "code",
   "execution_count": 300,
   "metadata": {},
   "outputs": [],
   "source": [
    "for i in test_df['cuisines']:\n",
    "    if i == 0:\n",
    "        print(i)"
   ]
  },
  {
   "cell_type": "code",
   "execution_count": 302,
   "metadata": {},
   "outputs": [
    {
     "data": {
      "text/plain": [
       "(array([3697., 2935., 1384.,  743.,  428.,  257.,  264.,   78.,   42.,\n",
       "         186.]),\n",
       " array([ 100.,  310.,  520.,  730.,  940., 1150., 1360., 1570., 1780.,\n",
       "        1990., 2200.]),\n",
       " <BarContainer object of 10 artists>)"
      ]
     },
     "execution_count": 302,
     "metadata": {},
     "output_type": "execute_result"
    },
    {
     "data": {
      "image/png": "[encoded data removed]",
      "text/plain": [
       "<Figure size 640x480 with 1 Axes>"
      ]
     },
     "metadata": {},
     "output_type": "display_data"
    }
   ],
   "source": [
    "plt.hist(test_df['approx_cost(for two people)'])"
   ]
  },
  {
   "cell_type": "code",
   "execution_count": 313,
   "metadata": {},
   "outputs": [
    {
     "data": {
      "text/plain": [
       "400.0"
      ]
     },
     "execution_count": 313,
     "metadata": {},
     "output_type": "execute_result"
    }
   ],
   "source": [
    "test_df['approx_cost(for two people)'].median(skipna=True)\n"
   ]
  },
  {
   "cell_type": "code",
   "execution_count": 1,
   "metadata": {},
   "outputs": [],
   "source": [
    "file_path = r'D:\\Restaurant_Rating_Prediction\\Restaurant\\artifact\\transformed_dir\\2022-09-01-10-16-49\\transformed_data\\test\\zomato.npz'\n",
    "import pandas as pd"
   ]
  },
  {
   "cell_type": "code",
   "execution_count": 2,
   "metadata": {},
   "outputs": [],
   "source": [
    "import matplotlib.pyplot as plt\n",
    "from Restaurant.util.util import load_numpy_array_data\n",
    "\n",
    "data = load_numpy_array_data(file_path=file_path)"
   ]
  },
  {
   "cell_type": "code",
   "execution_count": 24,
   "metadata": {},
   "outputs": [
    {
     "data": {
      "text/plain": [
       "array([-0.43342167,  0.15141149, -0.41825309, -0.37780354, -0.19409514])"
      ]
     },
     "execution_count": 24,
     "metadata": {},
     "output_type": "execute_result"
    }
   ],
   "source": [
    "data[0:5,0]"
   ]
  },
  {
   "cell_type": "code",
   "execution_count": 12,
   "metadata": {},
   "outputs": [],
   "source": [
    "file_path = r\"D:\\Restaurant_Rating_Prediction\\Restaurant\\artifact\\data_ingestion\\2022-09-03-19-08-43\\ingested_data\\test\\zomato.csv\"\n",
    "\n",
    "from Restaurant.util.util import count\n",
    "import pandas as pd"
   ]
  },
  {
   "cell_type": "code",
   "execution_count": 13,
   "metadata": {},
   "outputs": [],
   "source": [
    "df = pd.read_csv(file_path)"
   ]
  },
  {
   "cell_type": "code",
   "execution_count": 14,
   "metadata": {},
   "outputs": [
    {
     "data": {
      "text/html": [
       "<div>\n",
       "<style scoped>\n",
       "    .dataframe tbody tr th:only-of-type {\n",
       "        vertical-align: middle;\n",
       "    }\n",
       "\n",
       "    .dataframe tbody tr th {\n",
       "        vertical-align: top;\n",
       "    }\n",
       "\n",
       "    .dataframe thead th {\n",
       "        text-align: right;\n",
       "    }\n",
       "</style>\n",
       "<table border=\"1\" class=\"dataframe\">\n",
       "  <thead>\n",
       "    <tr style=\"text-align: right;\">\n",
       "      <th></th>\n",
       "      <th>name</th>\n",
       "      <th>online_order</th>\n",
       "      <th>book_table</th>\n",
       "      <th>votes</th>\n",
       "      <th>location</th>\n",
       "      <th>rest_type</th>\n",
       "      <th>dish_liked</th>\n",
       "      <th>cuisines</th>\n",
       "      <th>approx_cost(for two people)</th>\n",
       "      <th>listed_in(type)</th>\n",
       "      <th>listed_in(city)</th>\n",
       "      <th>Rate</th>\n",
       "    </tr>\n",
       "  </thead>\n",
       "  <tbody>\n",
       "    <tr>\n",
       "      <th>0</th>\n",
       "      <td>Cafe 221B</td>\n",
       "      <td>Yes</td>\n",
       "      <td>Yes</td>\n",
       "      <td>49</td>\n",
       "      <td>BTM</td>\n",
       "      <td>Cafe</td>\n",
       "      <td>NaN</td>\n",
       "      <td>Cafe, Beverages</td>\n",
       "      <td>300</td>\n",
       "      <td>Delivery</td>\n",
       "      <td>Koramangala 7th Block</td>\n",
       "      <td>3.700000</td>\n",
       "    </tr>\n",
       "    <tr>\n",
       "      <th>1</th>\n",
       "      <td>Shiv Sagar</td>\n",
       "      <td>Yes</td>\n",
       "      <td>No</td>\n",
       "      <td>0</td>\n",
       "      <td>Brigade Road</td>\n",
       "      <td>Food Court</td>\n",
       "      <td>NaN</td>\n",
       "      <td>South Indian, Chinese, North Indian</td>\n",
       "      <td>250</td>\n",
       "      <td>Dine-out</td>\n",
       "      <td>Residency Road</td>\n",
       "      <td>3.700449</td>\n",
       "    </tr>\n",
       "    <tr>\n",
       "      <th>2</th>\n",
       "      <td>Food Springs</td>\n",
       "      <td>Yes</td>\n",
       "      <td>No</td>\n",
       "      <td>232</td>\n",
       "      <td>Jayanagar</td>\n",
       "      <td>Quick Bites</td>\n",
       "      <td>Honey Chilli Potatoes, Nachos, Lemonade, Hakka...</td>\n",
       "      <td>South Indian, Chinese</td>\n",
       "      <td>400</td>\n",
       "      <td>Delivery</td>\n",
       "      <td>Banashankari</td>\n",
       "      <td>4.000000</td>\n",
       "    </tr>\n",
       "    <tr>\n",
       "      <th>3</th>\n",
       "      <td>Hot Brixx</td>\n",
       "      <td>Yes</td>\n",
       "      <td>No</td>\n",
       "      <td>22</td>\n",
       "      <td>Marathahalli</td>\n",
       "      <td>Quick Bites</td>\n",
       "      <td>NaN</td>\n",
       "      <td>Italian, Pizza</td>\n",
       "      <td>500</td>\n",
       "      <td>Delivery</td>\n",
       "      <td>Marathahalli</td>\n",
       "      <td>3.700000</td>\n",
       "    </tr>\n",
       "    <tr>\n",
       "      <th>4</th>\n",
       "      <td>SKS Veg Corner</td>\n",
       "      <td>No</td>\n",
       "      <td>No</td>\n",
       "      <td>0</td>\n",
       "      <td>Hebbal</td>\n",
       "      <td>Quick Bites</td>\n",
       "      <td>NaN</td>\n",
       "      <td>South Indian</td>\n",
       "      <td>100</td>\n",
       "      <td>Dine-out</td>\n",
       "      <td>New BEL Road</td>\n",
       "      <td>3.700449</td>\n",
       "    </tr>\n",
       "  </tbody>\n",
       "</table>\n",
       "</div>"
      ],
      "text/plain": [
       "             name online_order book_table  votes      location    rest_type  \\\n",
       "0       Cafe 221B          Yes        Yes     49           BTM         Cafe   \n",
       "1      Shiv Sagar          Yes         No      0  Brigade Road   Food Court   \n",
       "2    Food Springs          Yes         No    232     Jayanagar  Quick Bites   \n",
       "3       Hot Brixx          Yes         No     22  Marathahalli  Quick Bites   \n",
       "4  SKS Veg Corner           No         No      0        Hebbal  Quick Bites   \n",
       "\n",
       "                                          dish_liked  \\\n",
       "0                                                NaN   \n",
       "1                                                NaN   \n",
       "2  Honey Chilli Potatoes, Nachos, Lemonade, Hakka...   \n",
       "3                                                NaN   \n",
       "4                                                NaN   \n",
       "\n",
       "                              cuisines approx_cost(for two people)  \\\n",
       "0                      Cafe, Beverages                         300   \n",
       "1  South Indian, Chinese, North Indian                         250   \n",
       "2                South Indian, Chinese                         400   \n",
       "3                       Italian, Pizza                         500   \n",
       "4                         South Indian                         100   \n",
       "\n",
       "  listed_in(type)        listed_in(city)      Rate  \n",
       "0        Delivery  Koramangala 7th Block  3.700000  \n",
       "1        Dine-out         Residency Road  3.700449  \n",
       "2        Delivery           Banashankari  4.000000  \n",
       "3        Delivery           Marathahalli  3.700000  \n",
       "4        Dine-out           New BEL Road  3.700449  "
      ]
     },
     "execution_count": 14,
     "metadata": {},
     "output_type": "execute_result"
    }
   ],
   "source": [
    "df.head()"
   ]
  },
  {
   "cell_type": "code",
   "execution_count": 15,
   "metadata": {},
   "outputs": [
    {
     "data": {
      "text/plain": [
       "array(['Delivery', 'Dine-out', 'Desserts', 'Cafes', 'Buffet',\n",
       "       'Drinks & nightlife', 'Pubs and bars'], dtype=object)"
      ]
     },
     "execution_count": 15,
     "metadata": {},
     "output_type": "execute_result"
    }
   ],
   "source": [
    "df['listed_in(type)'].unique()"
   ]
  },
  {
   "cell_type": "code",
   "execution_count": 9,
   "metadata": {},
   "outputs": [
    {
     "data": {
      "text/plain": [
       "array(['Cafe', 'Food Court', 'Quick Bites', 'Bakery',\n",
       "       'Takeaway, Delivery', 'Casual Dining', 'Dessert Parlor',\n",
       "       'Delivery', 'Food Truck', nan, 'Pub, Casual Dining',\n",
       "       'Cafe, Bakery', 'Fine Dining', 'Bar', 'Bar, Casual Dining', 'Pub',\n",
       "       'Casual Dining, Cafe', 'Beverage Shop',\n",
       "       'Quick Bites, Beverage Shop', 'Mess', 'Lounge',\n",
       "       'Beverage Shop, Quick Bites', 'Dessert Parlor, Cafe', 'Dhaba',\n",
       "       'Sweet Shop, Quick Bites', 'Fine Dining, Lounge',\n",
       "       'Bakery, Quick Bites', 'Microbrewery', 'Quick Bites, Bakery',\n",
       "       'Casual Dining, Bar', 'Dessert Parlor, Beverage Shop', 'Kiosk',\n",
       "       'Microbrewery, Casual Dining', 'Quick Bites, Sweet Shop',\n",
       "       'Dessert Parlor, Bakery', 'Lounge, Bar', 'Casual Dining, Pub',\n",
       "       'Confectionery', 'Club', 'Dessert Parlor, Quick Bites',\n",
       "       'Sweet Shop', 'Cafe, Casual Dining', 'Microbrewery, Pub',\n",
       "       'Pub, Microbrewery', 'Quick Bites, Dessert Parlor',\n",
       "       'Casual Dining, Microbrewery', 'Bakery, Cafe',\n",
       "       'Cafe, Dessert Parlor', 'Beverage Shop, Dessert Parlor',\n",
       "       'Bakery, Kiosk', 'Cafe, Quick Bites', 'Cafe, Lounge', 'Pub, Cafe',\n",
       "       'Quick Bites, Cafe', 'Fine Dining, Bar', 'Bar, Cafe',\n",
       "       'Microbrewery, Lounge', 'Food Court, Quick Bites',\n",
       "       'Bakery, Dessert Parlor', 'Pub, Bar', 'Takeaway',\n",
       "       'Dessert Parlor, Sweet Shop', 'Quick Bites, Mess',\n",
       "       'Food Court, Casual Dining', 'Cafe, Bar',\n",
       "       'Quick Bites, Food Court', 'Quick Bites, Meat Shop',\n",
       "       'Lounge, Microbrewery', 'Casual Dining, Sweet Shop',\n",
       "       'Lounge, Casual Dining', 'Pop Up', 'Casual Dining, Irani Cafee',\n",
       "       'Bakery, Sweet Shop', 'Sweet Shop, Dessert Parlor',\n",
       "       'Bakery, Beverage Shop', 'Beverage Shop, Cafe', 'Bar, Quick Bites',\n",
       "       'Bar, Lounge', 'Club, Casual Dining', 'Lounge, Cafe',\n",
       "       'Dessert Parlor, Kiosk', 'Food Court, Dessert Parlor',\n",
       "       'Cafe, Food Court', 'Food Court, Beverage Shop',\n",
       "       'Mess, Quick Bites', 'Casual Dining, Quick Bites',\n",
       "       'Casual Dining, Lounge'], dtype=object)"
      ]
     },
     "execution_count": 9,
     "metadata": {},
     "output_type": "execute_result"
    }
   ],
   "source": [
    "df['rest_type'].unique()"
   ]
  },
  {
   "cell_type": "code",
   "execution_count": 10,
   "metadata": {},
   "outputs": [],
   "source": [
    "from Restaurant.util.util import count\n",
    "\n",
    "df['rest_type'] = df['rest_type'].apply(count)"
   ]
  },
  {
   "cell_type": "code",
   "execution_count": 11,
   "metadata": {},
   "outputs": [
    {
     "data": {
      "text/plain": [
       "array([1, 2, 0], dtype=int64)"
      ]
     },
     "execution_count": 11,
     "metadata": {},
     "output_type": "execute_result"
    }
   ],
   "source": [
    "df['rest_type'].unique()"
   ]
  },
  {
   "cell_type": "code",
   "execution_count": 53,
   "metadata": {},
   "outputs": [],
   "source": [
    "list1 = [value for value in df['rest_type'].value_counts().values]"
   ]
  },
  {
   "cell_type": "code",
   "execution_count": 54,
   "metadata": {},
   "outputs": [],
   "source": [
    "list2 = [index for index in df['rest_type'].value_counts().index]"
   ]
  },
  {
   "cell_type": "code",
   "execution_count": 52,
   "metadata": {},
   "outputs": [
    {
     "ename": "TypeError",
     "evalue": "dict expected at most 1 arguments, got 2",
     "output_type": "error",
     "traceback": [
      "\u001b[1;31m---------------------------------------------------------------------------\u001b[0m",
      "\u001b[1;31mTypeError\u001b[0m                                 Traceback (most recent call last)",
      "\u001b[1;32m~\\AppData\\Local\\Temp\\ipykernel_25468\\3279074209.py\u001b[0m in \u001b[0;36m<module>\u001b[1;34m\u001b[0m\n\u001b[1;32m----> 1\u001b[1;33m \u001b[0mdata\u001b[0m \u001b[1;33m=\u001b[0m \u001b[1;33m[\u001b[0m\u001b[0mdict\u001b[0m\u001b[1;33m(\u001b[0m\u001b[0mindex\u001b[0m\u001b[1;33m,\u001b[0m\u001b[0mvalue\u001b[0m\u001b[1;33m)\u001b[0m \u001b[1;32mfor\u001b[0m \u001b[0mindex\u001b[0m\u001b[1;33m,\u001b[0m\u001b[0mvalue\u001b[0m \u001b[1;32min\u001b[0m \u001b[0mzip\u001b[0m\u001b[1;33m(\u001b[0m\u001b[0mlist2\u001b[0m\u001b[1;33m,\u001b[0m\u001b[0mlist1\u001b[0m\u001b[1;33m)\u001b[0m\u001b[1;33m]\u001b[0m\u001b[1;33m\u001b[0m\u001b[0m\n\u001b[0m",
      "\u001b[1;32m~\\AppData\\Local\\Temp\\ipykernel_25468\\3279074209.py\u001b[0m in \u001b[0;36m<listcomp>\u001b[1;34m(.0)\u001b[0m\n\u001b[1;32m----> 1\u001b[1;33m \u001b[0mdata\u001b[0m \u001b[1;33m=\u001b[0m \u001b[1;33m[\u001b[0m\u001b[0mdict\u001b[0m\u001b[1;33m(\u001b[0m\u001b[0mindex\u001b[0m\u001b[1;33m,\u001b[0m\u001b[0mvalue\u001b[0m\u001b[1;33m)\u001b[0m \u001b[1;32mfor\u001b[0m \u001b[0mindex\u001b[0m\u001b[1;33m,\u001b[0m\u001b[0mvalue\u001b[0m \u001b[1;32min\u001b[0m \u001b[0mzip\u001b[0m\u001b[1;33m(\u001b[0m\u001b[0mlist2\u001b[0m\u001b[1;33m,\u001b[0m\u001b[0mlist1\u001b[0m\u001b[1;33m)\u001b[0m\u001b[1;33m]\u001b[0m\u001b[1;33m\u001b[0m\u001b[0m\n\u001b[0m",
      "\u001b[1;31mTypeError\u001b[0m: dict expected at most 1 arguments, got 2"
     ]
    }
   ],
   "source": [
    "def counter(value):\n",
    "    try:\n",
    "        return \n",
    "    except Exception as e:\n",
    "        print(str(e))"
   ]
  },
  {
   "cell_type": "code",
   "execution_count": 85,
   "metadata": {},
   "outputs": [],
   "source": [
    "from collections import Counter\n",
    "\n",
    "data = Counter(df['rest_type'])"
   ]
  },
  {
   "cell_type": "code",
   "execution_count": 76,
   "metadata": {},
   "outputs": [],
   "source": [
    "a = [1,2,3,4,5,6,4,21,1,]"
   ]
  },
  {
   "cell_type": "code",
   "execution_count": 81,
   "metadata": {},
   "outputs": [],
   "source": [
    "d = {}\n",
    "sum = 0\n",
    "for ele in a:\n",
    "    if ele is ele:\n",
    "        sum += 1\n",
    "    d[ele] = sum\n",
    "else:\n",
    "    d[ele] = sum\n",
    "        "
   ]
  },
  {
   "cell_type": "code",
   "execution_count": 87,
   "metadata": {},
   "outputs": [
    {
     "data": {
      "text/plain": [
       "Counter({'Cafe': 741,\n",
       "         'Food Court': 123,\n",
       "         'Quick Bites': 3833,\n",
       "         'Bakery': 211,\n",
       "         'Takeaway, Delivery': 403,\n",
       "         'Casual Dining': 2092,\n",
       "         'Dessert Parlor': 453,\n",
       "         'Delivery': 510,\n",
       "         'Food Truck': 19,\n",
       "         nan: 43,\n",
       "         'Pub, Casual Dining': 49,\n",
       "         'Cafe, Bakery': 52,\n",
       "         'Fine Dining': 65,\n",
       "         'Bar': 151,\n",
       "         'Bar, Casual Dining': 84,\n",
       "         'Pub': 76,\n",
       "         'Casual Dining, Cafe': 63,\n",
       "         'Beverage Shop': 176,\n",
       "         'Quick Bites, Beverage Shop': 19,\n",
       "         'Mess': 60,\n",
       "         'Lounge': 82,\n",
       "         'Beverage Shop, Quick Bites': 68,\n",
       "         'Dessert Parlor, Cafe': 41,\n",
       "         'Dhaba': 8,\n",
       "         'Sweet Shop, Quick Bites': 31,\n",
       "         'Fine Dining, Lounge': 3,\n",
       "         'Bakery, Quick Bites': 46,\n",
       "         'Microbrewery': 7,\n",
       "         'Quick Bites, Bakery': 15,\n",
       "         'Casual Dining, Bar': 239,\n",
       "         'Dessert Parlor, Beverage Shop': 11,\n",
       "         'Kiosk': 32,\n",
       "         'Microbrewery, Casual Dining': 34,\n",
       "         'Quick Bites, Sweet Shop': 13,\n",
       "         'Dessert Parlor, Bakery': 15,\n",
       "         'Lounge, Bar': 5,\n",
       "         'Casual Dining, Pub': 23,\n",
       "         'Confectionery': 9,\n",
       "         'Club': 6,\n",
       "         'Dessert Parlor, Quick Bites': 22,\n",
       "         'Sweet Shop': 86,\n",
       "         'Cafe, Casual Dining': 35,\n",
       "         'Microbrewery, Pub': 6,\n",
       "         'Pub, Microbrewery': 15,\n",
       "         'Quick Bites, Dessert Parlor': 18,\n",
       "         'Casual Dining, Microbrewery': 12,\n",
       "         'Bakery, Cafe': 12,\n",
       "         'Cafe, Dessert Parlor': 26,\n",
       "         'Beverage Shop, Dessert Parlor': 15,\n",
       "         'Bakery, Kiosk': 3,\n",
       "         'Cafe, Quick Bites': 23,\n",
       "         'Cafe, Lounge': 4,\n",
       "         'Pub, Cafe': 6,\n",
       "         'Quick Bites, Cafe': 8,\n",
       "         'Fine Dining, Bar': 12,\n",
       "         'Bar, Cafe': 4,\n",
       "         'Microbrewery, Lounge': 2,\n",
       "         'Food Court, Quick Bites': 16,\n",
       "         'Bakery, Dessert Parlor': 20,\n",
       "         'Pub, Bar': 11,\n",
       "         'Takeaway': 25,\n",
       "         'Dessert Parlor, Sweet Shop': 4,\n",
       "         'Quick Bites, Mess': 2,\n",
       "         'Food Court, Casual Dining': 2,\n",
       "         'Cafe, Bar': 3,\n",
       "         'Quick Bites, Food Court': 4,\n",
       "         'Quick Bites, Meat Shop': 1,\n",
       "         'Lounge, Microbrewery': 1,\n",
       "         'Casual Dining, Sweet Shop': 4,\n",
       "         'Lounge, Casual Dining': 8,\n",
       "         'Pop Up': 1,\n",
       "         'Casual Dining, Irani Cafee': 2,\n",
       "         'Bakery, Sweet Shop': 2,\n",
       "         'Sweet Shop, Dessert Parlor': 1,\n",
       "         'Bakery, Beverage Shop': 1,\n",
       "         'Beverage Shop, Cafe': 4,\n",
       "         'Bar, Quick Bites': 1,\n",
       "         'Bar, Lounge': 1,\n",
       "         'Club, Casual Dining': 1,\n",
       "         'Lounge, Cafe': 1,\n",
       "         'Dessert Parlor, Kiosk': 1,\n",
       "         'Food Court, Dessert Parlor': 1,\n",
       "         'Cafe, Food Court': 2,\n",
       "         'Food Court, Beverage Shop': 1,\n",
       "         'Mess, Quick Bites': 1,\n",
       "         'Casual Dining, Quick Bites': 1,\n",
       "         'Casual Dining, Lounge': 1})"
      ]
     },
     "execution_count": 87,
     "metadata": {},
     "output_type": "execute_result"
    }
   ],
   "source": []
  },
  {
   "cell_type": "code",
   "execution_count": 102,
   "metadata": {},
   "outputs": [
    {
     "ename": "TypeError",
     "evalue": "descriptor 'values' of 'dict' object needs an argument",
     "output_type": "error",
     "traceback": [
      "\u001b[1;31m---------------------------------------------------------------------------\u001b[0m",
      "\u001b[1;31mTypeError\u001b[0m                                 Traceback (most recent call last)",
      "\u001b[1;32m~\\AppData\\Local\\Temp\\ipykernel_25468\\1667697074.py\u001b[0m in \u001b[0;36m<module>\u001b[1;34m\u001b[0m\n\u001b[1;32m----> 1\u001b[1;33m \u001b[0mdf\u001b[0m\u001b[1;33m[\u001b[0m\u001b[1;34m'rest_type'\u001b[0m\u001b[1;33m]\u001b[0m \u001b[1;33m=\u001b[0m \u001b[0mdf\u001b[0m\u001b[1;33m[\u001b[0m\u001b[1;34m'rest_type'\u001b[0m\u001b[1;33m]\u001b[0m\u001b[1;33m.\u001b[0m\u001b[0mapply\u001b[0m\u001b[1;33m(\u001b[0m\u001b[0mCounter\u001b[0m\u001b[1;33m.\u001b[0m\u001b[0mvalues\u001b[0m\u001b[1;33m(\u001b[0m\u001b[1;33m)\u001b[0m\u001b[1;33m)\u001b[0m\u001b[1;33m\u001b[0m\u001b[0m\n\u001b[0m",
      "\u001b[1;31mTypeError\u001b[0m: descriptor 'values' of 'dict' object needs an argument"
     ]
    }
   ],
   "source": [
    "df['rest_type'] = df['rest_type'].apply(Counter.values())"
   ]
  },
  {
   "cell_type": "code",
   "execution_count": 105,
   "metadata": {},
   "outputs": [],
   "source": [
    "a = [1,2,3,1,2,3]\n",
    "d = {}\n",
    "sum = 0\n",
    "for ele in a:\n",
    "    d[ele] = a.count(ele)\n",
    "\n"
   ]
  },
  {
   "cell_type": "code",
   "execution_count": 106,
   "metadata": {},
   "outputs": [
    {
     "data": {
      "text/plain": [
       "{1: 2, 2: 2, 3: 2}"
      ]
     },
     "execution_count": 106,
     "metadata": {},
     "output_type": "execute_result"
    }
   ],
   "source": [
    "d\n",
    "  "
   ]
  },
  {
   "cell_type": "code",
   "execution_count": 107,
   "metadata": {},
   "outputs": [
    {
     "data": {
      "text/plain": [
       "10301"
      ]
     },
     "execution_count": 107,
     "metadata": {},
     "output_type": "execute_result"
    }
   ],
   "source": [
    "df['rest_type'].count()"
   ]
  },
  {
   "cell_type": "code",
   "execution_count": 1,
   "metadata": {},
   "outputs": [],
   "source": [
    "import pandas as pd\n",
    "file_path = r\"D:\\Restaurant_Rating_Prediction\\Restaurant\\artifact\\data_ingestion\\2022-09-05-14-02-27\\ingested_data\\test\\zomato.csv\"\n",
    "df = pd.read_csv(file_path)"
   ]
  },
  {
   "cell_type": "code",
   "execution_count": 2,
   "metadata": {},
   "outputs": [
    {
     "name": "stdout",
     "output_type": "stream",
     "text": [
      "<class 'pandas.core.frame.DataFrame'>\n",
      "RangeIndex: 10344 entries, 0 to 10343\n",
      "Data columns (total 12 columns):\n",
      " #   Column                       Non-Null Count  Dtype  \n",
      "---  ------                       --------------  -----  \n",
      " 0   name                         10344 non-null  object \n",
      " 1   online_order                 10344 non-null  object \n",
      " 2   book_table                   10344 non-null  object \n",
      " 3   votes                        10344 non-null  int64  \n",
      " 4   location                     10340 non-null  object \n",
      " 5   rest_type                    10301 non-null  object \n",
      " 6   dish_liked                   4756 non-null   object \n",
      " 7   cuisines                     10335 non-null  object \n",
      " 8   approx_cost(for two people)  10282 non-null  object \n",
      " 9   listed_in(type)              10344 non-null  object \n",
      " 10  listed_in(city)              10344 non-null  object \n",
      " 11  Rate                         10344 non-null  float64\n",
      "dtypes: float64(1), int64(1), object(10)\n",
      "memory usage: 969.9+ KB\n"
     ]
    }
   ],
   "source": [
    "df.info()    "
   ]
  },
  {
   "cell_type": "code",
   "execution_count": 11,
   "metadata": {},
   "outputs": [],
   "source": [
    "file_path = r\"D:\\Restaurant_Rating_Prediction\\saved_models\""
   ]
  },
  {
   "cell_type": "code",
   "execution_count": 13,
   "metadata": {},
   "outputs": [
    {
     "ename": "ValueError",
     "evalue": "invalid literal for int() with base 10: '20220908-115430'",
     "output_type": "error",
     "traceback": [
      "\u001b[1;31m---------------------------------------------------------------------------\u001b[0m",
      "\u001b[1;31mValueError\u001b[0m                                Traceback (most recent call last)",
      "\u001b[1;32m~\\AppData\\Local\\Temp\\ipykernel_8264\\3903983049.py\u001b[0m in \u001b[0;36m<module>\u001b[1;34m\u001b[0m\n\u001b[0;32m      1\u001b[0m \u001b[1;32mimport\u001b[0m \u001b[0mos\u001b[0m\u001b[1;33m\u001b[0m\u001b[0m\n\u001b[0;32m      2\u001b[0m \u001b[1;33m\u001b[0m\u001b[0m\n\u001b[1;32m----> 3\u001b[1;33m \u001b[0mfolder_name\u001b[0m \u001b[1;33m=\u001b[0m \u001b[0mlist\u001b[0m\u001b[1;33m(\u001b[0m\u001b[0mmap\u001b[0m\u001b[1;33m(\u001b[0m\u001b[0mint\u001b[0m\u001b[1;33m,\u001b[0m \u001b[0mos\u001b[0m\u001b[1;33m.\u001b[0m\u001b[0mlistdir\u001b[0m\u001b[1;33m(\u001b[0m\u001b[0mfile_path\u001b[0m\u001b[1;33m)\u001b[0m\u001b[1;33m)\u001b[0m\u001b[1;33m)\u001b[0m\u001b[1;33m\u001b[0m\u001b[0m\n\u001b[0m\u001b[0;32m      4\u001b[0m \u001b[0mfolder_name\u001b[0m\u001b[1;33m\u001b[0m\u001b[0m\n",
      "\u001b[1;31mValueError\u001b[0m: invalid literal for int() with base 10: '20220908-115430'"
     ]
    }
   ],
   "source": [
    "import os\n",
    "\n",
    "folder_name = list(map(int, os.listdir(file_path)))\n",
    "folder_name"
   ]
  },
  {
   "cell_type": "code",
   "execution_count": 11,
   "metadata": {},
   "outputs": [],
   "source": [
    "import os\n",
    "from Restaurant.entity.config_entity import DataIngestionConfig\n",
    "\n",
    "a = DataIngestionConfig"
   ]
  },
  {
   "cell_type": "code",
   "execution_count": 12,
   "metadata": {},
   "outputs": [
    {
     "data": {
      "text/plain": [
       "<property at 0x1debbd171d8>"
      ]
     },
     "execution_count": 12,
     "metadata": {},
     "output_type": "execute_result"
    }
   ],
   "source": [
    "a.dataset_download_url"
   ]
  },
  {
   "cell_type": "code",
   "execution_count": 13,
   "metadata": {},
   "outputs": [
    {
     "data": {
      "text/plain": [
       "<property at 0x1debbd17278>"
      ]
     },
     "execution_count": 13,
     "metadata": {},
     "output_type": "execute_result"
    }
   ],
   "source": [
    "a.zip_download_dir"
   ]
  },
  {
   "cell_type": "code",
   "execution_count": 14,
   "metadata": {},
   "outputs": [],
   "source": [
    "from Restaurant.entity.config_entity import DataValidationConfig\n",
    "b = DataValidationConfig"
   ]
  },
  {
   "cell_type": "code",
   "execution_count": 16,
   "metadata": {},
   "outputs": [],
   "source": [
    "c = b.schema_file_path"
   ]
  },
  {
   "cell_type": "code",
   "execution_count": null,
   "metadata": {},
   "outputs": [],
   "source": []
  },
  {
   "cell_type": "code",
   "execution_count": null,
   "metadata": {},
   "outputs": [],
   "source": []
  }
 ],
 "metadata": {
  "kernelspec": {
   "display_name": "Python 3.7.0",
   "language": "python",
   "name": "python3"
  },
  "language_info": {
   "codemirror_mode": {
    "name": "ipython",
    "version": 3
   },
   "file_extension": ".py",
   "mimetype": "text/x-python",
   "name": "python",
   "nbconvert_exporter": "python",
   "pygments_lexer": "ipython3",
   "version": "3.7.0"
  },
  "orig_nbformat": 4,
  "vscode": {
   "interpreter": {
    "hash": "44c196e59bf9442445c7ee3f6b66dcbe7da47491cf852c98f71697367b56676a"
   }
  }
 },
 "nbformat": 4,
 "nbformat_minor": 2
}
