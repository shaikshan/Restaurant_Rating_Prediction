{
 "cells": [
  {
   "cell_type": "code",
   "execution_count": 1,
   "metadata": {},
   "outputs": [
    {
     "name": "stdout",
     "output_type": "stream",
     "text": [
      "hello\n"
     ]
    }
   ],
   "source": [
    "print(\"hello\")"
   ]
  },
  {
   "cell_type": "code",
   "execution_count": 7,
   "metadata": {},
   "outputs": [
    {
     "name": "stdout",
     "output_type": "stream",
     "text": [
      "{'pipeline_name': 'Restaurant', 'artifact_dir': 'artifact'}\n"
     ]
    }
   ],
   "source": [
    "from Restaurant.constants import *\n",
    "\n",
    "file_path = \"D:\\Restaurant_Rating_Prediction\\config\\config.yaml\"\n",
    "\n",
    "import yaml\n",
    "with open(file_path,\"r\") as yaml_file:\n",
    "    file = yaml.safe_load(yaml_file)\n",
    "print(file['training_pipeline_config'])"
   ]
  },
  {
   "cell_type": "code",
   "execution_count": 14,
   "metadata": {},
   "outputs": [
    {
     "ename": "BadZipFile",
     "evalue": "File is not a zip file",
     "output_type": "error",
     "traceback": [
      "\u001b[1;31m---------------------------------------------------------------------------\u001b[0m",
      "\u001b[1;31mBadZipFile\u001b[0m                                Traceback (most recent call last)",
      "\u001b[1;32m~\\AppData\\Local\\Temp\\ipykernel_13072\\2679373148.py\u001b[0m in \u001b[0;36m<module>\u001b[1;34m\u001b[0m\n\u001b[0;32m      1\u001b[0m \u001b[1;32mfrom\u001b[0m \u001b[0mzipfile\u001b[0m \u001b[1;32mimport\u001b[0m \u001b[0mZipFile\u001b[0m\u001b[1;33m\u001b[0m\u001b[0m\n\u001b[1;32m----> 2\u001b[1;33m \u001b[1;32mwith\u001b[0m \u001b[0mZipFile\u001b[0m\u001b[1;33m(\u001b[0m\u001b[1;34mr'D:\\Restaurant_Rating_Prediction\\Restaurant\\artifact\\data_ingestion\\2022-06-27-11-06-04\\zip_data\\archive.zip'\u001b[0m\u001b[1;33m,\u001b[0m\u001b[1;34m'r'\u001b[0m\u001b[1;33m)\u001b[0m \u001b[1;32mas\u001b[0m \u001b[0mzip\u001b[0m\u001b[1;33m:\u001b[0m\u001b[1;33m\u001b[0m\u001b[0m\n\u001b[0m\u001b[0;32m      3\u001b[0m     \u001b[0mzip\u001b[0m\u001b[1;33m.\u001b[0m\u001b[0mextractall\u001b[0m\u001b[1;33m(\u001b[0m\u001b[1;33m)\u001b[0m\u001b[1;33m\u001b[0m\u001b[0m\n",
      "\u001b[1;32md:\\Restaurant_Rating_Prediction\\venv\\lib\\zipfile.py\u001b[0m in \u001b[0;36m__init__\u001b[1;34m(self, file, mode, compression, allowZip64, compresslevel)\u001b[0m\n\u001b[0;32m   1198\u001b[0m         \u001b[1;32mtry\u001b[0m\u001b[1;33m:\u001b[0m\u001b[1;33m\u001b[0m\u001b[0m\n\u001b[0;32m   1199\u001b[0m             \u001b[1;32mif\u001b[0m \u001b[0mmode\u001b[0m \u001b[1;33m==\u001b[0m \u001b[1;34m'r'\u001b[0m\u001b[1;33m:\u001b[0m\u001b[1;33m\u001b[0m\u001b[0m\n\u001b[1;32m-> 1200\u001b[1;33m                 \u001b[0mself\u001b[0m\u001b[1;33m.\u001b[0m\u001b[0m_RealGetContents\u001b[0m\u001b[1;33m(\u001b[0m\u001b[1;33m)\u001b[0m\u001b[1;33m\u001b[0m\u001b[0m\n\u001b[0m\u001b[0;32m   1201\u001b[0m             \u001b[1;32melif\u001b[0m \u001b[0mmode\u001b[0m \u001b[1;32min\u001b[0m \u001b[1;33m(\u001b[0m\u001b[1;34m'w'\u001b[0m\u001b[1;33m,\u001b[0m \u001b[1;34m'x'\u001b[0m\u001b[1;33m)\u001b[0m\u001b[1;33m:\u001b[0m\u001b[1;33m\u001b[0m\u001b[0m\n\u001b[0;32m   1202\u001b[0m                 \u001b[1;31m# set the modified flag so central directory gets written\u001b[0m\u001b[1;33m\u001b[0m\u001b[1;33m\u001b[0m\u001b[0m\n",
      "\u001b[1;32md:\\Restaurant_Rating_Prediction\\venv\\lib\\zipfile.py\u001b[0m in \u001b[0;36m_RealGetContents\u001b[1;34m(self)\u001b[0m\n\u001b[0;32m   1265\u001b[0m             \u001b[1;32mraise\u001b[0m \u001b[0mBadZipFile\u001b[0m\u001b[1;33m(\u001b[0m\u001b[1;34m\"File is not a zip file\"\u001b[0m\u001b[1;33m)\u001b[0m\u001b[1;33m\u001b[0m\u001b[0m\n\u001b[0;32m   1266\u001b[0m         \u001b[1;32mif\u001b[0m \u001b[1;32mnot\u001b[0m \u001b[0mendrec\u001b[0m\u001b[1;33m:\u001b[0m\u001b[1;33m\u001b[0m\u001b[0m\n\u001b[1;32m-> 1267\u001b[1;33m             \u001b[1;32mraise\u001b[0m \u001b[0mBadZipFile\u001b[0m\u001b[1;33m(\u001b[0m\u001b[1;34m\"File is not a zip file\"\u001b[0m\u001b[1;33m)\u001b[0m\u001b[1;33m\u001b[0m\u001b[0m\n\u001b[0m\u001b[0;32m   1268\u001b[0m         \u001b[1;32mif\u001b[0m \u001b[0mself\u001b[0m\u001b[1;33m.\u001b[0m\u001b[0mdebug\u001b[0m \u001b[1;33m>\u001b[0m \u001b[1;36m1\u001b[0m\u001b[1;33m:\u001b[0m\u001b[1;33m\u001b[0m\u001b[0m\n\u001b[0;32m   1269\u001b[0m             \u001b[0mprint\u001b[0m\u001b[1;33m(\u001b[0m\u001b[0mendrec\u001b[0m\u001b[1;33m)\u001b[0m\u001b[1;33m\u001b[0m\u001b[0m\n",
      "\u001b[1;31mBadZipFile\u001b[0m: File is not a zip file"
     ]
    }
   ],
   "source": [
    "from zipfile import ZipFile\n",
    "with ZipFile(r'D:\\Restaurant_Rating_Prediction\\Restaurant\\artifact\\data_ingestion\\2022-06-27-11-06-04\\zip_data\\archive.zip','r') as zip:\n",
    "    zip.extractall()\n"
   ]
  },
  {
   "cell_type": "code",
   "execution_count": 16,
   "metadata": {},
   "outputs": [],
   "source": [
    "zipFile = r'D:\\Restaurant_Rating_Prediction\\Restaurant\\artifact\\data_ingestion\\2022-12-26-18-12-15\\zip_data\\archive.zip'"
   ]
  },
  {
   "cell_type": "code",
   "execution_count": 18,
   "metadata": {},
   "outputs": [],
   "source": [
    "def fixBadZipfile(zipFile):  \n",
    " f = open(zipFile, 'r+b')  \n",
    " data = f.read()  \n",
    " pos = data.find('\\x50\\x4b\\x05\\x06') # End of central directory signature  \n",
    " if (pos > 0):  \n",
    "     self._log(\"Trancating file at location \" + str(pos + 22)+ \".\")  \n",
    "     f.seek(pos + 22)   # size of 'ZIP end of central directory record' \n",
    "     f.truncate()  \n",
    "     f.close()  \n",
    " else:  \n",
    "      raise Exception (\"file is trancuted\")"
   ]
  },
  {
   "cell_type": "code",
   "execution_count": 21,
   "metadata": {},
   "outputs": [
    {
     "name": "stdout",
     "output_type": "stream",
     "text": [
      "Downloading started\n",
      "Downloading Completed\n"
     ]
    }
   ],
   "source": [
    "#importing the requests module\n",
    "import requests\n",
    "print('Downloading started')\n",
    "url = 'https://www.kaggle.com/datasets/himanshupoddar/zomato-bangalore-restaurants/download?datasetVersionNumber=1'\n",
    "\n",
    "# Downloading the file by sending the request to the URL\n",
    "req = requests.get(url)\n",
    " \n",
    "# Split URL to get the file name\n",
    "filename = \"zomato.csv\"\n",
    " \n",
    "# Writing the file to the local file system\n",
    "with open(filename,'wb') as output_file:\n",
    "    output_file.write(req.content)\n",
    "print('Downloading Completed')"
   ]
  },
  {
   "cell_type": "code",
   "execution_count": 27,
   "metadata": {},
   "outputs": [],
   "source": [
    "from kaggle.api.kaggle_api_extended import KaggleApi\n",
    "api = KaggleApi()\n",
    "api.authenticate()"
   ]
  },
  {
   "cell_type": "code",
   "execution_count": 31,
   "metadata": {},
   "outputs": [],
   "source": [
    "api.dataset_download_file('himanshupoddar/zomato-bangalore-restaurants',file_name='zomato.csv')"
   ]
  },
  {
   "cell_type": "code",
   "execution_count": 4,
   "metadata": {},
   "outputs": [
    {
     "data": {
      "text/plain": [
       "'zomato-bangalore-restaurants.zip'"
      ]
     },
     "execution_count": 4,
     "metadata": {},
     "output_type": "execute_result"
    }
   ],
   "source": [
    "import os\n",
    "import re\n",
    "from Restaurant.util.util import read_yaml_file\n",
    "ziip = read_yaml_file(r\"D:\\Restaurant_Rating_Prediction\\config\\config.yaml\")\n",
    "ob = ziip['data_ingestion_config']\n",
    "obj = ob['dataset_info']\n",
    "zipfile = os.path.basename()+\".zip\"\n",
    "zipfile"
   ]
  },
  {
   "cell_type": "code",
   "execution_count": 9,
   "metadata": {},
   "outputs": [
    {
     "data": {
      "text/plain": [
       "'zomato.csv'"
      ]
     },
     "execution_count": 9,
     "metadata": {},
     "output_type": "execute_result"
    }
   ],
   "source": [
    "file =os.listdir(r\"D:\\Restaurant_Rating_Prediction\\Restaurant\\artifact\\data_ingestion\\2022-13-27-16-13-07\\raw_data\")\n",
    "file[0]"
   ]
  },
  {
   "cell_type": "code",
   "execution_count": 9,
   "metadata": {},
   "outputs": [],
   "source": [
    "from  Restaurant.util.util import *\n",
    "import pandas as pd\n",
    "from Restaurant.constants import SCHEMA_FILE_PATH\n",
    "import yaml"
   ]
  },
  {
   "cell_type": "code",
   "execution_count": 29,
   "metadata": {},
   "outputs": [],
   "source": [
    "schema_file_path = r\"D:\\Restaurant_Rating_Prediction\\config\\schema.yaml\"\n",
    "\n",
    "def read_yaml(file_path):\n",
    "    try:\n",
    "        with open(file_path,'rb') as yaml_file:\n",
    "            return yaml.safe_load(yaml_file)\n",
    "    except Exception as e:\n",
    "        print(str(e))"
   ]
  },
  {
   "cell_type": "code",
   "execution_count": 42,
   "metadata": {},
   "outputs": [
    {
     "data": {
      "text/plain": [
       "{'url': 'object',\n",
       " 'address': 'object',\n",
       " 'name': 'object',\n",
       " 'online_order': 'object',\n",
       " 'book_table': 'object',\n",
       " 'rate': 'float64',\n",
       " 'votes': 'int64',\n",
       " 'phone': 'object',\n",
       " 'location': 'object',\n",
       " 'rest_type': 'object',\n",
       " 'dish_liked': 'object',\n",
       " 'cuisines': 'object',\n",
       " 'approx_cost(for two people)': 'object',\n",
       " 'reviews_list': 'object',\n",
       " 'menu_item': 'object',\n",
       " 'listed_in(type)': 'object',\n",
       " 'listed_in(city)': 'object'}"
      ]
     },
     "execution_count": 42,
     "metadata": {},
     "output_type": "execute_result"
    }
   ],
   "source": [
    "schema_file_info['columns']"
   ]
  },
  {
   "cell_type": "code",
   "execution_count": 30,
   "metadata": {},
   "outputs": [],
   "source": [
    "schema_file_info = read_yaml(file_path=schema_file_path)"
   ]
  },
  {
   "cell_type": "code",
   "execution_count": 121,
   "metadata": {},
   "outputs": [],
   "source": [
    "test_df = pd.read_csv(r'D:\\Restaurant_Rating_Prediction\\Restaurant\\artifact\\data_ingestion\\2022-35-27-16-35-39\\ingested_data\\test\\zomato.csv')"
   ]
  },
  {
   "cell_type": "code",
   "execution_count": 75,
   "metadata": {},
   "outputs": [
    {
     "data": {
      "text/plain": [
       "17"
      ]
     },
     "execution_count": 75,
     "metadata": {},
     "output_type": "execute_result"
    }
   ],
   "source": [
    "len(test_df.columns)"
   ]
  },
  {
   "cell_type": "code",
   "execution_count": 76,
   "metadata": {},
   "outputs": [
    {
     "data": {
      "text/html": [
       "<div>\n",
       "<style scoped>\n",
       "    .dataframe tbody tr th:only-of-type {\n",
       "        vertical-align: middle;\n",
       "    }\n",
       "\n",
       "    .dataframe tbody tr th {\n",
       "        vertical-align: top;\n",
       "    }\n",
       "\n",
       "    .dataframe thead th {\n",
       "        text-align: right;\n",
       "    }\n",
       "</style>\n",
       "<table border=\"1\" class=\"dataframe\">\n",
       "  <thead>\n",
       "    <tr style=\"text-align: right;\">\n",
       "      <th></th>\n",
       "      <th>url</th>\n",
       "      <th>address</th>\n",
       "      <th>name</th>\n",
       "      <th>online_order</th>\n",
       "      <th>book_table</th>\n",
       "      <th>rate</th>\n",
       "      <th>votes</th>\n",
       "      <th>phone</th>\n",
       "      <th>location</th>\n",
       "      <th>rest_type</th>\n",
       "      <th>dish_liked</th>\n",
       "      <th>cuisines</th>\n",
       "      <th>approx_cost(for two people)</th>\n",
       "      <th>reviews_list</th>\n",
       "      <th>menu_item</th>\n",
       "      <th>listed_in(type)</th>\n",
       "      <th>listed_in(city)</th>\n",
       "    </tr>\n",
       "  </thead>\n",
       "  <tbody>\n",
       "    <tr>\n",
       "      <th>0</th>\n",
       "      <td>https://www.zomato.com/bangalore/kshera-sagar-...</td>\n",
       "      <td>Kormangala Police Station, Near Shiva Trader, ...</td>\n",
       "      <td>Kshera Sagar</td>\n",
       "      <td>No</td>\n",
       "      <td>No</td>\n",
       "      <td>3.9</td>\n",
       "      <td>0</td>\n",
       "      <td>+91 9535120269</td>\n",
       "      <td>Koramangala 1st Block</td>\n",
       "      <td>Quick Bites</td>\n",
       "      <td>NaN</td>\n",
       "      <td>North Indian, Chinese</td>\n",
       "      <td>200</td>\n",
       "      <td>[('Rated 5.0', 'RATED\\n  Super good very beaut...</td>\n",
       "      <td>[]</td>\n",
       "      <td>Dine-out</td>\n",
       "      <td>Koramangala 5th Block</td>\n",
       "    </tr>\n",
       "    <tr>\n",
       "      <th>1</th>\n",
       "      <td>https://www.zomato.com/bangalore/melt-eden-par...</td>\n",
       "      <td>Eden Park7, 8 Doresani Palya, Near Kalyani Mag...</td>\n",
       "      <td>Melt - Eden Park</td>\n",
       "      <td>Yes</td>\n",
       "      <td>Yes</td>\n",
       "      <td>4.0</td>\n",
       "      <td>347</td>\n",
       "      <td>+91 9606487102</td>\n",
       "      <td>JP Nagar</td>\n",
       "      <td>Casual Dining</td>\n",
       "      <td>Tandoori Chicken, Biryani, Paneer Tikka, Chick...</td>\n",
       "      <td>North Indian, Chinese, Thai, Mughlai, Seafood</td>\n",
       "      <td>1,000</td>\n",
       "      <td>[('Rated 3.0', 'RATED\\n  Want to give it 3.5.\\...</td>\n",
       "      <td>[]</td>\n",
       "      <td>Buffet</td>\n",
       "      <td>JP Nagar</td>\n",
       "    </tr>\n",
       "    <tr>\n",
       "      <th>2</th>\n",
       "      <td>https://www.zomato.com/bangalore/karavali-gard...</td>\n",
       "      <td>1, 33rd Main Road, 6th Phase, JP Nagar, Bangalore</td>\n",
       "      <td>Sea Horse</td>\n",
       "      <td>No</td>\n",
       "      <td>No</td>\n",
       "      <td>3.4</td>\n",
       "      <td>9</td>\n",
       "      <td>+91 7349443688\\r\\n080 411103999</td>\n",
       "      <td>JP Nagar</td>\n",
       "      <td>Casual Dining</td>\n",
       "      <td>NaN</td>\n",
       "      <td>South Indian, Chinese</td>\n",
       "      <td>400</td>\n",
       "      <td>[('Rated 3.0', \"RATED\\n  Tried Porotta, Mathi ...</td>\n",
       "      <td>[]</td>\n",
       "      <td>Delivery</td>\n",
       "      <td>Bannerghatta Road</td>\n",
       "    </tr>\n",
       "    <tr>\n",
       "      <th>3</th>\n",
       "      <td>https://www.zomato.com/bangalore/cakezone-vart...</td>\n",
       "      <td>710, Thubarahalli, Varthur Main Road, Whitefie...</td>\n",
       "      <td>CakeZone</td>\n",
       "      <td>Yes</td>\n",
       "      <td>No</td>\n",
       "      <td>3.9</td>\n",
       "      <td>33</td>\n",
       "      <td>080 43334321</td>\n",
       "      <td>Varthur Main Road, Whitefield</td>\n",
       "      <td>Takeaway, Delivery</td>\n",
       "      <td>NaN</td>\n",
       "      <td>Bakery, Desserts</td>\n",
       "      <td>200</td>\n",
       "      <td>[('Rated 5.0', \"RATED\\n  They have very nice v...</td>\n",
       "      <td>['Chocolate Truffle Cake (500 Grams)', 'Black ...</td>\n",
       "      <td>Delivery</td>\n",
       "      <td>Whitefield</td>\n",
       "    </tr>\n",
       "    <tr>\n",
       "      <th>4</th>\n",
       "      <td>https://www.zomato.com/bangalore/shri-vishnu-g...</td>\n",
       "      <td>18, Prakruthi Enclave, Panathur Road, Kadubees...</td>\n",
       "      <td>Shri Vishnu Grand</td>\n",
       "      <td>Yes</td>\n",
       "      <td>No</td>\n",
       "      <td>3.1</td>\n",
       "      <td>142</td>\n",
       "      <td>080 42013256\\n+91 8884565894</td>\n",
       "      <td>Marathahalli</td>\n",
       "      <td>Casual Dining</td>\n",
       "      <td>Rava Idli, Tea, Coffee, Rava Dosa, Biryani, Ma...</td>\n",
       "      <td>North Indian, South Indian, Chinese</td>\n",
       "      <td>450</td>\n",
       "      <td>[('Rated 4.0', 'RATED\\n  Nice and clean place,...</td>\n",
       "      <td>[]</td>\n",
       "      <td>Delivery</td>\n",
       "      <td>Sarjapur Road</td>\n",
       "    </tr>\n",
       "  </tbody>\n",
       "</table>\n",
       "</div>"
      ],
      "text/plain": [
       "                                                 url  \\\n",
       "0  https://www.zomato.com/bangalore/kshera-sagar-...   \n",
       "1  https://www.zomato.com/bangalore/melt-eden-par...   \n",
       "2  https://www.zomato.com/bangalore/karavali-gard...   \n",
       "3  https://www.zomato.com/bangalore/cakezone-vart...   \n",
       "4  https://www.zomato.com/bangalore/shri-vishnu-g...   \n",
       "\n",
       "                                             address               name  \\\n",
       "0  Kormangala Police Station, Near Shiva Trader, ...       Kshera Sagar   \n",
       "1  Eden Park7, 8 Doresani Palya, Near Kalyani Mag...   Melt - Eden Park   \n",
       "2  1, 33rd Main Road, 6th Phase, JP Nagar, Bangalore          Sea Horse   \n",
       "3  710, Thubarahalli, Varthur Main Road, Whitefie...           CakeZone   \n",
       "4  18, Prakruthi Enclave, Panathur Road, Kadubees...  Shri Vishnu Grand   \n",
       "\n",
       "  online_order book_table  rate  votes                            phone  \\\n",
       "0           No         No   3.9      0                   +91 9535120269   \n",
       "1          Yes        Yes   4.0    347                   +91 9606487102   \n",
       "2           No         No   3.4      9  +91 7349443688\\r\\n080 411103999   \n",
       "3          Yes         No   3.9     33                     080 43334321   \n",
       "4          Yes         No   3.1    142     080 42013256\\n+91 8884565894   \n",
       "\n",
       "                        location           rest_type  \\\n",
       "0          Koramangala 1st Block         Quick Bites   \n",
       "1                       JP Nagar       Casual Dining   \n",
       "2                       JP Nagar       Casual Dining   \n",
       "3  Varthur Main Road, Whitefield  Takeaway, Delivery   \n",
       "4                   Marathahalli       Casual Dining   \n",
       "\n",
       "                                          dish_liked  \\\n",
       "0                                                NaN   \n",
       "1  Tandoori Chicken, Biryani, Paneer Tikka, Chick...   \n",
       "2                                                NaN   \n",
       "3                                                NaN   \n",
       "4  Rava Idli, Tea, Coffee, Rava Dosa, Biryani, Ma...   \n",
       "\n",
       "                                        cuisines approx_cost(for two people)  \\\n",
       "0                          North Indian, Chinese                         200   \n",
       "1  North Indian, Chinese, Thai, Mughlai, Seafood                       1,000   \n",
       "2                          South Indian, Chinese                         400   \n",
       "3                               Bakery, Desserts                         200   \n",
       "4            North Indian, South Indian, Chinese                         450   \n",
       "\n",
       "                                        reviews_list  \\\n",
       "0  [('Rated 5.0', 'RATED\\n  Super good very beaut...   \n",
       "1  [('Rated 3.0', 'RATED\\n  Want to give it 3.5.\\...   \n",
       "2  [('Rated 3.0', \"RATED\\n  Tried Porotta, Mathi ...   \n",
       "3  [('Rated 5.0', \"RATED\\n  They have very nice v...   \n",
       "4  [('Rated 4.0', 'RATED\\n  Nice and clean place,...   \n",
       "\n",
       "                                           menu_item listed_in(type)  \\\n",
       "0                                                 []        Dine-out   \n",
       "1                                                 []          Buffet   \n",
       "2                                                 []        Delivery   \n",
       "3  ['Chocolate Truffle Cake (500 Grams)', 'Black ...        Delivery   \n",
       "4                                                 []        Delivery   \n",
       "\n",
       "         listed_in(city)  \n",
       "0  Koramangala 5th Block  \n",
       "1               JP Nagar  \n",
       "2      Bannerghatta Road  \n",
       "3             Whitefield  \n",
       "4          Sarjapur Road  "
      ]
     },
     "execution_count": 76,
     "metadata": {},
     "output_type": "execute_result"
    }
   ],
   "source": [
    "test_df.head()"
   ]
  },
  {
   "cell_type": "code",
   "execution_count": 40,
   "metadata": {},
   "outputs": [
    {
     "data": {
      "text/plain": [
       "17"
      ]
     },
     "execution_count": 40,
     "metadata": {},
     "output_type": "execute_result"
    }
   ],
   "source": [
    "len(schema_file_info['columns'])"
   ]
  },
  {
   "cell_type": "code",
   "execution_count": 41,
   "metadata": {},
   "outputs": [
    {
     "name": "stdout",
     "output_type": "stream",
     "text": [
      "True\n"
     ]
    }
   ],
   "source": [
    "result = True\n",
    "if len(schema_file_info['columns'])==len(test_df.columns):\n",
    "     print(result)\n",
    "else:\n",
    "    print(result=False)"
   ]
  },
  {
   "cell_type": "code",
   "execution_count": 192,
   "metadata": {},
   "outputs": [],
   "source": [
    "#delete columns\n",
    "\n",
    "\n",
    "columns = ['url','address','phone','reviews_list','menu_item']\n",
    "for column in test_df.columns:\n",
    "    if column in columns:\n",
    "        test_df.drop(columns=column,axis=1,inplace=True)"
   ]
  },
  {
   "cell_type": "code",
   "execution_count": 88,
   "metadata": {},
   "outputs": [],
   "source": [
    "a =2==2"
   ]
  },
  {
   "cell_type": "code",
   "execution_count": 96,
   "metadata": {},
   "outputs": [],
   "source": [
    "b = 2==3"
   ]
  },
  {
   "cell_type": "code",
   "execution_count": 97,
   "metadata": {},
   "outputs": [],
   "source": [
    "c =a and b"
   ]
  },
  {
   "cell_type": "code",
   "execution_count": 98,
   "metadata": {},
   "outputs": [
    {
     "name": "stdout",
     "output_type": "stream",
     "text": [
      "False\n"
     ]
    }
   ],
   "source": [
    "result = None\n",
    "\n",
    "if not c:\n",
    "    result = c\n",
    "    print(result)\n",
    "else:\n",
    "    result = c\n",
    "    print(result)"
   ]
  },
  {
   "cell_type": "code",
   "execution_count": 104,
   "metadata": {},
   "outputs": [
    {
     "data": {
      "text/plain": [
       "{'url': 'object',\n",
       " 'address': 'object',\n",
       " 'name': 'object',\n",
       " 'online_order': 'object',\n",
       " 'book_table': 'object',\n",
       " 'rate': 'float64',\n",
       " 'votes': 'int64',\n",
       " 'phone': 'object',\n",
       " 'location': 'object',\n",
       " 'rest_type': 'object',\n",
       " 'dish_liked': 'object',\n",
       " 'cuisines': 'object',\n",
       " 'approx_cost(for two people)': 'object',\n",
       " 'reviews_list': 'object',\n",
       " 'menu_item': 'object',\n",
       " 'listed_in(type)': 'object',\n",
       " 'listed_in(city)': 'object'}"
      ]
     },
     "execution_count": 104,
     "metadata": {},
     "output_type": "execute_result"
    }
   ],
   "source": [
    "schema_columns_info = schema_file_info['columns']\n",
    "schema_columns_info"
   ]
  },
  {
   "cell_type": "code",
   "execution_count": 133,
   "metadata": {},
   "outputs": [],
   "source": [
    "def columns_check(df:pd.DataFrame,schema_columns_info):\n",
    "    try:\n",
    "        for key in schema_columns_info.keys():\n",
    "            if df.dtypes[key] != schema_columns_info[key]:\n",
    "                return False\n",
    "        else:\n",
    "            return True\n",
    "    except Exception as e:\n",
    "        print(str(e),\"key error\")"
   ]
  },
  {
   "cell_type": "code",
   "execution_count": 134,
   "metadata": {},
   "outputs": [
    {
     "name": "stdout",
     "output_type": "stream",
     "text": [
      "'url' key error\n"
     ]
    }
   ],
   "source": [
    "columns_check(test_df,schema_columns_info=schema_columns_info)"
   ]
  },
  {
   "cell_type": "code",
   "execution_count": 188,
   "metadata": {},
   "outputs": [],
   "source": [
    "train_df = pd.read_csv(r\"D:\\Restaurant_Rating_Prediction\\Restaurant\\artifact\\data_ingestion\\2022-35-27-16-35-39\\ingested_data\\train\\zomato.csv\")"
   ]
  },
  {
   "cell_type": "code",
   "execution_count": 206,
   "metadata": {},
   "outputs": [],
   "source": [
    "test_df = pd.read_csv(r\"D:\\Restaurant_Rating_Prediction\\Restaurant\\artifact\\data_ingestion\\2022-35-27-16-35-39\\ingested_data\\test\\zomato.csv\")"
   ]
  },
  {
   "cell_type": "code",
   "execution_count": 158,
   "metadata": {},
   "outputs": [
    {
     "name": "stdout",
     "output_type": "stream",
     "text": [
      "True\n"
     ]
    }
   ],
   "source": [
    "try:\n",
    "    dtype_validation = None\n",
    "    for key in schema_columns_info.keys():\n",
    "        if train_df.dtypes[key] != schema_columns_info[key]:\n",
    "            dtype_validation = False\n",
    "            #logging.info(f\"Validation of train_df:{dtype_validation}\")\n",
    "            print(dtype_validation)\n",
    "        if test_df.dtypes[key] != schema_columns_info[key]:\n",
    "            dtype_validation = False\n",
    "            #logging.info(f\"Validation of test_df:{dtype_validation}\")\n",
    "            print(dtype_validation)\n",
    "        else:\n",
    "            dtype_validation = True\n",
    "            #logging.info(f\"Validation of test and train:{dtype_validation}\")\n",
    "    print(dtype_validation)\n",
    "except Exception as e:\n",
    "    print(str(e))    "
   ]
  },
  {
   "cell_type": "code",
   "execution_count": 209,
   "metadata": {},
   "outputs": [
    {
     "name": "stdout",
     "output_type": "stream",
     "text": [
      "True\n"
     ]
    }
   ],
   "source": [
    "try:\n",
    "    validation = True\n",
    "    if len(schema_columns_info.keys()) == len(test_df.columns):\n",
    "        i = 0\n",
    "        for key in schema_columns_info.keys():\n",
    "\n",
    "            if test_df.dtypes.index[i] != key:\n",
    "                print(\"columns name not found\")\n",
    "            i+=1\n",
    "        print(validation)\n",
    "    else:\n",
    "        print(validation)\n",
    "except Exception as e:\n",
    "    print(str(e))"
   ]
  },
  {
   "cell_type": "code",
   "execution_count": 202,
   "metadata": {},
   "outputs": [
    {
     "data": {
      "text/plain": [
       "12"
      ]
     },
     "execution_count": 202,
     "metadata": {},
     "output_type": "execute_result"
    }
   ],
   "source": [
    "len(test_df.columns)"
   ]
  },
  {
   "cell_type": "code",
   "execution_count": 200,
   "metadata": {},
   "outputs": [
    {
     "data": {
      "text/plain": [
       "17"
      ]
     },
     "execution_count": 200,
     "metadata": {},
     "output_type": "execute_result"
    }
   ],
   "source": [
    "len(schema_columns_info.keys())"
   ]
  },
  {
   "cell_type": "code",
   "execution_count": 213,
   "metadata": {},
   "outputs": [
    {
     "ename": "TypeError",
     "evalue": "'<' not supported between instances of 'str' and 'float'",
     "output_type": "error",
     "traceback": [
      "\u001b[1;31m---------------------------------------------------------------------------\u001b[0m",
      "\u001b[1;31mTypeError\u001b[0m                                 Traceback (most recent call last)",
      "\u001b[1;32m~\\AppData\\Local\\Temp\\ipykernel_15252\\1305023552.py\u001b[0m in \u001b[0;36m<module>\u001b[1;34m\u001b[0m\n\u001b[0;32m      3\u001b[0m \u001b[1;32mimport\u001b[0m \u001b[0mnumpy\u001b[0m \u001b[1;32mas\u001b[0m \u001b[0mnp\u001b[0m\u001b[1;33m\u001b[0m\u001b[0m\n\u001b[0;32m      4\u001b[0m \u001b[1;33m\u001b[0m\u001b[0m\n\u001b[1;32m----> 5\u001b[1;33m \u001b[0mQ1\u001b[0m\u001b[1;33m,\u001b[0m\u001b[0mQ3\u001b[0m \u001b[1;33m=\u001b[0m \u001b[0mnp\u001b[0m\u001b[1;33m.\u001b[0m\u001b[0mpercentile\u001b[0m\u001b[1;33m(\u001b[0m\u001b[0mtest_df\u001b[0m\u001b[1;33m[\u001b[0m\u001b[1;34m'approx_cost(for two people)'\u001b[0m\u001b[1;33m]\u001b[0m\u001b[1;33m,\u001b[0m\u001b[1;33m[\u001b[0m\u001b[1;36m25\u001b[0m\u001b[1;33m,\u001b[0m\u001b[1;36m75\u001b[0m\u001b[1;33m]\u001b[0m\u001b[1;33m)\u001b[0m\u001b[1;33m\u001b[0m\u001b[0m\n\u001b[0m\u001b[0;32m      6\u001b[0m \u001b[1;33m\u001b[0m\u001b[0m\n\u001b[0;32m      7\u001b[0m \u001b[0mprint\u001b[0m\u001b[1;33m(\u001b[0m\u001b[0mQ1\u001b[0m\u001b[1;33m,\u001b[0m\u001b[0mQ3\u001b[0m\u001b[1;33m)\u001b[0m\u001b[1;33m\u001b[0m\u001b[0m\n",
      "\u001b[1;32m<__array_function__ internals>\u001b[0m in \u001b[0;36mpercentile\u001b[1;34m(*args, **kwargs)\u001b[0m\n",
      "\u001b[1;32md:\\Restaurant_Rating_Prediction\\venv\\lib\\site-packages\\numpy\\lib\\function_base.py\u001b[0m in \u001b[0;36mpercentile\u001b[1;34m(a, q, axis, out, overwrite_input, interpolation, keepdims)\u001b[0m\n\u001b[0;32m   3866\u001b[0m         \u001b[1;32mraise\u001b[0m \u001b[0mValueError\u001b[0m\u001b[1;33m(\u001b[0m\u001b[1;34m\"Percentiles must be in the range [0, 100]\"\u001b[0m\u001b[1;33m)\u001b[0m\u001b[1;33m\u001b[0m\u001b[0m\n\u001b[0;32m   3867\u001b[0m     return _quantile_unchecked(\n\u001b[1;32m-> 3868\u001b[1;33m         a, q, axis, out, overwrite_input, interpolation, keepdims)\n\u001b[0m\u001b[0;32m   3869\u001b[0m \u001b[1;33m\u001b[0m\u001b[0m\n\u001b[0;32m   3870\u001b[0m \u001b[1;33m\u001b[0m\u001b[0m\n",
      "\u001b[1;32md:\\Restaurant_Rating_Prediction\\venv\\lib\\site-packages\\numpy\\lib\\function_base.py\u001b[0m in \u001b[0;36m_quantile_unchecked\u001b[1;34m(a, q, axis, out, overwrite_input, interpolation, keepdims)\u001b[0m\n\u001b[0;32m   3986\u001b[0m     r, k = _ureduce(a, func=_quantile_ureduce_func, q=q, axis=axis, out=out,\n\u001b[0;32m   3987\u001b[0m                     \u001b[0moverwrite_input\u001b[0m\u001b[1;33m=\u001b[0m\u001b[0moverwrite_input\u001b[0m\u001b[1;33m,\u001b[0m\u001b[1;33m\u001b[0m\u001b[0m\n\u001b[1;32m-> 3988\u001b[1;33m                     interpolation=interpolation)\n\u001b[0m\u001b[0;32m   3989\u001b[0m     \u001b[1;32mif\u001b[0m \u001b[0mkeepdims\u001b[0m\u001b[1;33m:\u001b[0m\u001b[1;33m\u001b[0m\u001b[0m\n\u001b[0;32m   3990\u001b[0m         \u001b[1;32mreturn\u001b[0m \u001b[0mr\u001b[0m\u001b[1;33m.\u001b[0m\u001b[0mreshape\u001b[0m\u001b[1;33m(\u001b[0m\u001b[0mq\u001b[0m\u001b[1;33m.\u001b[0m\u001b[0mshape\u001b[0m \u001b[1;33m+\u001b[0m \u001b[0mk\u001b[0m\u001b[1;33m)\u001b[0m\u001b[1;33m\u001b[0m\u001b[0m\n",
      "\u001b[1;32md:\\Restaurant_Rating_Prediction\\venv\\lib\\site-packages\\numpy\\lib\\function_base.py\u001b[0m in \u001b[0;36m_ureduce\u001b[1;34m(a, func, **kwargs)\u001b[0m\n\u001b[0;32m   3562\u001b[0m         \u001b[0mkeepdim\u001b[0m \u001b[1;33m=\u001b[0m \u001b[1;33m(\u001b[0m\u001b[1;36m1\u001b[0m\u001b[1;33m,\u001b[0m\u001b[1;33m)\u001b[0m \u001b[1;33m*\u001b[0m \u001b[0ma\u001b[0m\u001b[1;33m.\u001b[0m\u001b[0mndim\u001b[0m\u001b[1;33m\u001b[0m\u001b[0m\n\u001b[0;32m   3563\u001b[0m \u001b[1;33m\u001b[0m\u001b[0m\n\u001b[1;32m-> 3564\u001b[1;33m     \u001b[0mr\u001b[0m \u001b[1;33m=\u001b[0m \u001b[0mfunc\u001b[0m\u001b[1;33m(\u001b[0m\u001b[0ma\u001b[0m\u001b[1;33m,\u001b[0m \u001b[1;33m**\u001b[0m\u001b[0mkwargs\u001b[0m\u001b[1;33m)\u001b[0m\u001b[1;33m\u001b[0m\u001b[0m\n\u001b[0m\u001b[0;32m   3565\u001b[0m     \u001b[1;32mreturn\u001b[0m \u001b[0mr\u001b[0m\u001b[1;33m,\u001b[0m \u001b[0mkeepdim\u001b[0m\u001b[1;33m\u001b[0m\u001b[0m\n\u001b[0;32m   3566\u001b[0m \u001b[1;33m\u001b[0m\u001b[0m\n",
      "\u001b[1;32md:\\Restaurant_Rating_Prediction\\venv\\lib\\site-packages\\numpy\\lib\\function_base.py\u001b[0m in \u001b[0;36m_quantile_ureduce_func\u001b[1;34m(***failed resolving arguments***)\u001b[0m\n\u001b[0;32m   4101\u001b[0m             ap.partition(concatenate((\n\u001b[0;32m   4102\u001b[0m                 \u001b[0mindices_below\u001b[0m\u001b[1;33m.\u001b[0m\u001b[0mravel\u001b[0m\u001b[1;33m(\u001b[0m\u001b[1;33m)\u001b[0m\u001b[1;33m,\u001b[0m \u001b[0mindices_above\u001b[0m\u001b[1;33m.\u001b[0m\u001b[0mravel\u001b[0m\u001b[1;33m(\u001b[0m\u001b[1;33m)\u001b[0m\u001b[1;33m\u001b[0m\u001b[0m\n\u001b[1;32m-> 4103\u001b[1;33m             )), axis=0)\n\u001b[0m\u001b[0;32m   4104\u001b[0m             \u001b[0mn\u001b[0m \u001b[1;33m=\u001b[0m \u001b[0mnp\u001b[0m\u001b[1;33m.\u001b[0m\u001b[0marray\u001b[0m\u001b[1;33m(\u001b[0m\u001b[1;32mFalse\u001b[0m\u001b[1;33m,\u001b[0m \u001b[0mdtype\u001b[0m\u001b[1;33m=\u001b[0m\u001b[0mbool\u001b[0m\u001b[1;33m)\u001b[0m\u001b[1;33m\u001b[0m\u001b[0m\n\u001b[0;32m   4105\u001b[0m \u001b[1;33m\u001b[0m\u001b[0m\n",
      "\u001b[1;31mTypeError\u001b[0m: '<' not supported between instances of 'str' and 'float'"
     ]
    }
   ],
   "source": [
    "from cgi import test\n",
    "from re import I\n",
    "import numpy as np\n",
    "\n",
    "Q1,Q3 = np.percentile(test_df['approx_cost(for two people)'],[25,75])\n",
    "\n",
    "print(Q1,Q3)\n",
    "\n"
   ]
  },
  {
   "cell_type": "code",
   "execution_count": 214,
   "metadata": {},
   "outputs": [
    {
     "data": {
      "text/plain": [
       "array(['200', '1,000', '400', '450', '900', '150', '300', '800', '750',\n",
       "       '250', '600', '500', '1,700', '120', '1,300', '350', '100', '700',\n",
       "       '550', '3,000', '650', '2,000', '1,200', '1,500', '1,400', '1,100',\n",
       "       '3,400', '130', '230', nan, '1,600', '1,800', '2,800', '1,900',\n",
       "       '180', '850', '1,450', '950', '2,500', '2,100', '2,300', '1,350',\n",
       "       '2,200', '40', '4,000', '80', '4,100', '330', '3,500', '50',\n",
       "       '2,600', '70', '2,400', '1,250', '1,650', '360'], dtype=object)"
      ]
     },
     "execution_count": 214,
     "metadata": {},
     "output_type": "execute_result"
    }
   ],
   "source": [
    "test_df['approx_cost(for two people)'].unique()"
   ]
  },
  {
   "cell_type": "code",
   "execution_count": 83,
   "metadata": {},
   "outputs": [],
   "source": [
    "import pandas as pd\n",
    "\n",
    "test_df = pd.read_csv(r\"D:\\Restaurant_Rating_Prediction\\Restaurant\\artifact\\data_ingestion\\2022-24-28-17-24-02\\ingested_data\\test\\zomato.csv\")"
   ]
  },
  {
   "cell_type": "code",
   "execution_count": 129,
   "metadata": {},
   "outputs": [],
   "source": [
    "train_df = pd.read_csv(r\"D:\\Restaurant_Rating_Prediction\\Restaurant\\artifact\\data_ingestion\\2022-24-28-17-24-02\\ingested_data\\train\\zomato.csv\")"
   ]
  },
  {
   "cell_type": "code",
   "execution_count": 85,
   "metadata": {},
   "outputs": [],
   "source": [
    "\n",
    "columns = ['url','address','phone','reviews_list','menu_item']\n",
    "for column in test_df.columns:\n",
    "    if column in columns:\n",
    "        test_df.drop(columns=column,axis=1,inplace=True)"
   ]
  },
  {
   "cell_type": "code",
   "execution_count": 10,
   "metadata": {},
   "outputs": [
    {
     "data": {
      "text/plain": [
       "Index(['name', 'online_order', 'book_table', 'rate', 'votes', 'location',\n",
       "       'rest_type', 'dish_liked', 'cuisines', 'approx_cost(for two people)',\n",
       "       'listed_in(type)', 'listed_in(city)'],\n",
       "      dtype='object')"
      ]
     },
     "execution_count": 10,
     "metadata": {},
     "output_type": "execute_result"
    }
   ],
   "source": [
    "test_df.columns"
   ]
  },
  {
   "cell_type": "code",
   "execution_count": 87,
   "metadata": {},
   "outputs": [],
   "source": [
    "test_df['approx_cost(for two people)'] = test_df['approx_cost(for two people)'].str.replace(\",\",\"\")"
   ]
  },
  {
   "cell_type": "code",
   "execution_count": 43,
   "metadata": {},
   "outputs": [
    {
     "data": {
      "text/plain": [
       "array(['200', '1000', '400', '450', '900', '150', '300', '800', '750',\n",
       "       '250', '600', '500', '1700', '120', '1300', '350', '100', '700',\n",
       "       '550', '3000', '650', '2000', '1200', '1500', '1400', '1100',\n",
       "       '3400', '130', '230', nan, '1600', '1800', '2800', '1900', '180',\n",
       "       '850', '1450', '950', '2500', '2100', '2300', '1350', '2200', '40',\n",
       "       '4000', '80', '4100', '330', '3500', '50', '2600', '70', '2400',\n",
       "       '1250', '1650', '360'], dtype=object)"
      ]
     },
     "execution_count": 43,
     "metadata": {},
     "output_type": "execute_result"
    }
   ],
   "source": [
    "test_df['approx_cost(for two people)'].unique()"
   ]
  },
  {
   "cell_type": "code",
   "execution_count": 44,
   "metadata": {},
   "outputs": [
    {
     "data": {
      "text/plain": [
       "0         200.0\n",
       "1        1000.0\n",
       "2         400.0\n",
       "3         200.0\n",
       "4         450.0\n",
       "          ...  \n",
       "10339     450.0\n",
       "10340     150.0\n",
       "10341     400.0\n",
       "10342     150.0\n",
       "10343     800.0\n",
       "Name: approx_cost(for two people), Length: 10344, dtype: float64"
      ]
     },
     "execution_count": 44,
     "metadata": {},
     "output_type": "execute_result"
    }
   ],
   "source": [
    "test_df['approx_cost(for two people)'].astype(float)"
   ]
  },
  {
   "cell_type": "code",
   "execution_count": 89,
   "metadata": {},
   "outputs": [],
   "source": [
    "test_df['approx_cost(for two people)'] = pd.to_numeric(test_df['approx_cost(for two people)'])"
   ]
  },
  {
   "cell_type": "code",
   "execution_count": 99,
   "metadata": {},
   "outputs": [
    {
     "data": {
      "text/html": [
       "<div>\n",
       "<style scoped>\n",
       "    .dataframe tbody tr th:only-of-type {\n",
       "        vertical-align: middle;\n",
       "    }\n",
       "\n",
       "    .dataframe tbody tr th {\n",
       "        vertical-align: top;\n",
       "    }\n",
       "\n",
       "    .dataframe thead th {\n",
       "        text-align: right;\n",
       "    }\n",
       "</style>\n",
       "<table border=\"1\" class=\"dataframe\">\n",
       "  <thead>\n",
       "    <tr style=\"text-align: right;\">\n",
       "      <th></th>\n",
       "      <th>name</th>\n",
       "      <th>online_order</th>\n",
       "      <th>book_table</th>\n",
       "      <th>rate</th>\n",
       "      <th>votes</th>\n",
       "      <th>location</th>\n",
       "      <th>rest_type</th>\n",
       "      <th>dish_liked</th>\n",
       "      <th>cuisines</th>\n",
       "      <th>approx_cost(for two people)</th>\n",
       "      <th>listed_in(type)</th>\n",
       "      <th>listed_in(city)</th>\n",
       "      <th>Rating</th>\n",
       "    </tr>\n",
       "  </thead>\n",
       "  <tbody>\n",
       "    <tr>\n",
       "      <th>0</th>\n",
       "      <td>Kshera Sagar</td>\n",
       "      <td>No</td>\n",
       "      <td>No</td>\n",
       "      <td>3.9</td>\n",
       "      <td>0</td>\n",
       "      <td>Koramangala 1st Block</td>\n",
       "      <td>Quick Bites</td>\n",
       "      <td>NaN</td>\n",
       "      <td>North Indian, Chinese</td>\n",
       "      <td>200.0</td>\n",
       "      <td>Dine-out</td>\n",
       "      <td>Koramangala 5th Block</td>\n",
       "      <td>3.9</td>\n",
       "    </tr>\n",
       "    <tr>\n",
       "      <th>1</th>\n",
       "      <td>Melt - Eden Park</td>\n",
       "      <td>Yes</td>\n",
       "      <td>Yes</td>\n",
       "      <td>4.0</td>\n",
       "      <td>347</td>\n",
       "      <td>JP Nagar</td>\n",
       "      <td>Casual Dining</td>\n",
       "      <td>Tandoori Chicken, Biryani, Paneer Tikka, Chick...</td>\n",
       "      <td>North Indian, Chinese, Thai, Mughlai, Seafood</td>\n",
       "      <td>1000.0</td>\n",
       "      <td>Buffet</td>\n",
       "      <td>JP Nagar</td>\n",
       "      <td>4.0</td>\n",
       "    </tr>\n",
       "  </tbody>\n",
       "</table>\n",
       "</div>"
      ],
      "text/plain": [
       "               name online_order book_table  rate  votes  \\\n",
       "0      Kshera Sagar           No         No   3.9      0   \n",
       "1  Melt - Eden Park          Yes        Yes   4.0    347   \n",
       "\n",
       "                location      rest_type  \\\n",
       "0  Koramangala 1st Block    Quick Bites   \n",
       "1               JP Nagar  Casual Dining   \n",
       "\n",
       "                                          dish_liked  \\\n",
       "0                                                NaN   \n",
       "1  Tandoori Chicken, Biryani, Paneer Tikka, Chick...   \n",
       "\n",
       "                                        cuisines  approx_cost(for two people)  \\\n",
       "0                          North Indian, Chinese                        200.0   \n",
       "1  North Indian, Chinese, Thai, Mughlai, Seafood                       1000.0   \n",
       "\n",
       "  listed_in(type)        listed_in(city)  Rating  \n",
       "0        Dine-out  Koramangala 5th Block     3.9  \n",
       "1          Buffet               JP Nagar     4.0  "
      ]
     },
     "execution_count": 99,
     "metadata": {},
     "output_type": "execute_result"
    }
   ],
   "source": [
    "test_df.head(2)"
   ]
  },
  {
   "cell_type": "code",
   "execution_count": 94,
   "metadata": {},
   "outputs": [],
   "source": [
    "test_df['Rating'] = test_df['rate']"
   ]
  },
  {
   "cell_type": "code",
   "execution_count": 98,
   "metadata": {},
   "outputs": [
    {
     "data": {
      "text/html": [
       "<div>\n",
       "<style scoped>\n",
       "    .dataframe tbody tr th:only-of-type {\n",
       "        vertical-align: middle;\n",
       "    }\n",
       "\n",
       "    .dataframe tbody tr th {\n",
       "        vertical-align: top;\n",
       "    }\n",
       "\n",
       "    .dataframe thead th {\n",
       "        text-align: right;\n",
       "    }\n",
       "</style>\n",
       "<table border=\"1\" class=\"dataframe\">\n",
       "  <thead>\n",
       "    <tr style=\"text-align: right;\">\n",
       "      <th></th>\n",
       "      <th>name</th>\n",
       "      <th>online_order</th>\n",
       "      <th>book_table</th>\n",
       "      <th>votes</th>\n",
       "      <th>location</th>\n",
       "      <th>rest_type</th>\n",
       "      <th>dish_liked</th>\n",
       "      <th>cuisines</th>\n",
       "      <th>approx_cost(for two people)</th>\n",
       "      <th>listed_in(type)</th>\n",
       "      <th>listed_in(city)</th>\n",
       "      <th>Rating</th>\n",
       "    </tr>\n",
       "  </thead>\n",
       "  <tbody>\n",
       "    <tr>\n",
       "      <th>0</th>\n",
       "      <td>Kshera Sagar</td>\n",
       "      <td>No</td>\n",
       "      <td>No</td>\n",
       "      <td>0</td>\n",
       "      <td>Koramangala 1st Block</td>\n",
       "      <td>Quick Bites</td>\n",
       "      <td>NaN</td>\n",
       "      <td>North Indian, Chinese</td>\n",
       "      <td>200.0</td>\n",
       "      <td>Dine-out</td>\n",
       "      <td>Koramangala 5th Block</td>\n",
       "      <td>3.9</td>\n",
       "    </tr>\n",
       "  </tbody>\n",
       "</table>\n",
       "</div>"
      ],
      "text/plain": [
       "           name online_order book_table  votes               location  \\\n",
       "0  Kshera Sagar           No         No      0  Koramangala 1st Block   \n",
       "\n",
       "     rest_type dish_liked               cuisines  approx_cost(for two people)  \\\n",
       "0  Quick Bites        NaN  North Indian, Chinese                        200.0   \n",
       "\n",
       "  listed_in(type)        listed_in(city)  Rating  \n",
       "0        Dine-out  Koramangala 5th Block     3.9  "
      ]
     },
     "execution_count": 98,
     "metadata": {},
     "output_type": "execute_result"
    }
   ],
   "source": [
    "test_df.drop('rate',axis=1).head(1)"
   ]
  },
  {
   "cell_type": "code",
   "execution_count": 128,
   "metadata": {},
   "outputs": [],
   "source": [
    "from Restaurant.exception import RestaurantException\n",
    "import os,sys\n",
    "\n",
    "def columns_removal(columns:list,df:pd.DataFrame):\n",
    "        try:\n",
    "            for column in df.columns:\n",
    "                if column in columns:\n",
    "                    df.drop(columns=column,axis=1,inplace=True)\n",
    "            else:\n",
    "                return df\n",
    "        except Exception as e:\n",
    "            raise RestaurantException(e,sys) from e "
   ]
  },
  {
   "cell_type": "code",
   "execution_count": 130,
   "metadata": {},
   "outputs": [],
   "source": [
    "train_df = columns_removal(columns=['url','address','phone','reviews_list','menu_item'],df=train_df)"
   ]
  },
  {
   "cell_type": "code",
   "execution_count": 140,
   "metadata": {},
   "outputs": [
    {
     "data": {
      "text/plain": [
       "'name'"
      ]
     },
     "execution_count": 140,
     "metadata": {},
     "output_type": "execute_result"
    }
   ],
   "source": [
    "train_df.dtypes.index[0]"
   ]
  },
  {
   "cell_type": "code",
   "execution_count": 138,
   "metadata": {},
   "outputs": [
    {
     "data": {
      "text/plain": [
       "Index(['name', 'online_order', 'book_table', 'rate', 'votes', 'location',\n",
       "       'rest_type', 'dish_liked', 'cuisines', 'approx_cost(for two people)',\n",
       "       'listed_in(type)', 'listed_in(city)', 'Rating'],\n",
       "      dtype='object')"
      ]
     },
     "execution_count": 138,
     "metadata": {},
     "output_type": "execute_result"
    }
   ],
   "source": [
    "test_df.columns"
   ]
  },
  {
   "cell_type": "code",
   "execution_count": 141,
   "metadata": {},
   "outputs": [],
   "source": [
    "df = pd.read_csv(r'D:\\Restaurant_Rating_Prediction\\Restaurant\\artifact\\data_ingestion\\2022-24-28-17-24-02\\raw_data\\zomato.csv')"
   ]
  },
  {
   "cell_type": "code",
   "execution_count": 142,
   "metadata": {},
   "outputs": [
    {
     "data": {
      "text/plain": [
       "(51717, 17)"
      ]
     },
     "execution_count": 142,
     "metadata": {},
     "output_type": "execute_result"
    }
   ],
   "source": [
    "df.shape"
   ]
  },
  {
   "cell_type": "code",
   "execution_count": 143,
   "metadata": {},
   "outputs": [
    {
     "data": {
      "text/plain": [
       "(41373, 12)"
      ]
     },
     "execution_count": 143,
     "metadata": {},
     "output_type": "execute_result"
    }
   ],
   "source": [
    "train_df.shape"
   ]
  },
  {
   "cell_type": "code",
   "execution_count": 146,
   "metadata": {},
   "outputs": [
    {
     "data": {
      "text/plain": [
       "13"
      ]
     },
     "execution_count": 146,
     "metadata": {},
     "output_type": "execute_result"
    }
   ],
   "source": [
    "from Restaurant.util.util import read_yaml_file\n",
    "\n",
    "schema_file_path = r\"D:\\Restaurant_Rating_Prediction\\config\\schema.yaml\"\n",
    "schema_file_content = read_yaml_file(file_path=schema_file_path)\n",
    "schema_columns_info = schema_file_content['columns']\n",
    "len(schema_columns_info)"
   ]
  },
  {
   "cell_type": "code",
   "execution_count": null,
   "metadata": {},
   "outputs": [],
   "source": []
  }
 ],
 "metadata": {
  "kernelspec": {
   "display_name": "Python 3.7.0",
   "language": "python",
   "name": "python3"
  },
  "language_info": {
   "codemirror_mode": {
    "name": "ipython",
    "version": 3
   },
   "file_extension": ".py",
   "mimetype": "text/x-python",
   "name": "python",
   "nbconvert_exporter": "python",
   "pygments_lexer": "ipython3",
   "version": "3.7.0"
  },
  "orig_nbformat": 4,
  "vscode": {
   "interpreter": {
    "hash": "44c196e59bf9442445c7ee3f6b66dcbe7da47491cf852c98f71697367b56676a"
   }
  }
 },
 "nbformat": 4,
 "nbformat_minor": 2
}
