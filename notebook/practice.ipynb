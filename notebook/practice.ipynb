{
 "cells": [
  {
   "cell_type": "code",
   "execution_count": 1,
   "metadata": {},
   "outputs": [],
   "source": [
    "import pandas as pd"
   ]
  },
  {
   "cell_type": "code",
   "execution_count": 137,
   "metadata": {},
   "outputs": [],
   "source": [
    "test_df =pd.read_csv(r\"D:\\Restaurant_Rating_Prediction\\Restaurant\\artifact\\data_ingestion\\2022-08-29-14-49-00\\ingested_data\\test\\zomato.csv\")"
   ]
  },
  {
   "cell_type": "code",
   "execution_count": 5,
   "metadata": {},
   "outputs": [
    {
     "data": {
      "text/html": [
       "<div>\n",
       "<style scoped>\n",
       "    .dataframe tbody tr th:only-of-type {\n",
       "        vertical-align: middle;\n",
       "    }\n",
       "\n",
       "    .dataframe tbody tr th {\n",
       "        vertical-align: top;\n",
       "    }\n",
       "\n",
       "    .dataframe thead th {\n",
       "        text-align: right;\n",
       "    }\n",
       "</style>\n",
       "<table border=\"1\" class=\"dataframe\">\n",
       "  <thead>\n",
       "    <tr style=\"text-align: right;\">\n",
       "      <th></th>\n",
       "      <th>name</th>\n",
       "      <th>online_order</th>\n",
       "      <th>book_table</th>\n",
       "      <th>rate</th>\n",
       "      <th>votes</th>\n",
       "      <th>location</th>\n",
       "      <th>rest_type</th>\n",
       "      <th>dish_liked</th>\n",
       "      <th>cuisines</th>\n",
       "      <th>approx_cost(for two people)</th>\n",
       "      <th>listed_in(type)</th>\n",
       "      <th>listed_in(city)</th>\n",
       "    </tr>\n",
       "  </thead>\n",
       "  <tbody>\n",
       "    <tr>\n",
       "      <th>0</th>\n",
       "      <td>Kshera Sagar</td>\n",
       "      <td>No</td>\n",
       "      <td>No</td>\n",
       "      <td>3.9</td>\n",
       "      <td>0</td>\n",
       "      <td>Koramangala 1st Block</td>\n",
       "      <td>Quick Bites</td>\n",
       "      <td>NaN</td>\n",
       "      <td>North Indian, Chinese</td>\n",
       "      <td>200</td>\n",
       "      <td>Dine-out</td>\n",
       "      <td>Koramangala 5th Block</td>\n",
       "    </tr>\n",
       "    <tr>\n",
       "      <th>1</th>\n",
       "      <td>Melt - Eden Park</td>\n",
       "      <td>Yes</td>\n",
       "      <td>Yes</td>\n",
       "      <td>4.0</td>\n",
       "      <td>347</td>\n",
       "      <td>JP Nagar</td>\n",
       "      <td>Casual Dining</td>\n",
       "      <td>Tandoori Chicken, Biryani, Paneer Tikka, Chick...</td>\n",
       "      <td>North Indian, Chinese, Thai, Mughlai, Seafood</td>\n",
       "      <td>1,000</td>\n",
       "      <td>Buffet</td>\n",
       "      <td>JP Nagar</td>\n",
       "    </tr>\n",
       "    <tr>\n",
       "      <th>2</th>\n",
       "      <td>Sea Horse</td>\n",
       "      <td>No</td>\n",
       "      <td>No</td>\n",
       "      <td>3.4</td>\n",
       "      <td>9</td>\n",
       "      <td>JP Nagar</td>\n",
       "      <td>Casual Dining</td>\n",
       "      <td>NaN</td>\n",
       "      <td>South Indian, Chinese</td>\n",
       "      <td>400</td>\n",
       "      <td>Delivery</td>\n",
       "      <td>Bannerghatta Road</td>\n",
       "    </tr>\n",
       "  </tbody>\n",
       "</table>\n",
       "</div>"
      ],
      "text/plain": [
       "               name online_order book_table  rate  votes  \\\n",
       "0      Kshera Sagar           No         No   3.9      0   \n",
       "1  Melt - Eden Park          Yes        Yes   4.0    347   \n",
       "2         Sea Horse           No         No   3.4      9   \n",
       "\n",
       "                location      rest_type  \\\n",
       "0  Koramangala 1st Block    Quick Bites   \n",
       "1               JP Nagar  Casual Dining   \n",
       "2               JP Nagar  Casual Dining   \n",
       "\n",
       "                                          dish_liked  \\\n",
       "0                                                NaN   \n",
       "1  Tandoori Chicken, Biryani, Paneer Tikka, Chick...   \n",
       "2                                                NaN   \n",
       "\n",
       "                                        cuisines approx_cost(for two people)  \\\n",
       "0                          North Indian, Chinese                         200   \n",
       "1  North Indian, Chinese, Thai, Mughlai, Seafood                       1,000   \n",
       "2                          South Indian, Chinese                         400   \n",
       "\n",
       "  listed_in(type)        listed_in(city)  \n",
       "0        Dine-out  Koramangala 5th Block  \n",
       "1          Buffet               JP Nagar  \n",
       "2        Delivery      Bannerghatta Road  "
      ]
     },
     "execution_count": 5,
     "metadata": {},
     "output_type": "execute_result"
    }
   ],
   "source": [
    "test_df.head(3)"
   ]
  },
  {
   "cell_type": "code",
   "execution_count": 10,
   "metadata": {},
   "outputs": [],
   "source": [
    "count = test_df['location'].value_counts(ascending=False)"
   ]
  },
  {
   "cell_type": "code",
   "execution_count": 13,
   "metadata": {},
   "outputs": [
    {
     "data": {
      "text/plain": [
       "Koramangala 1st Block    257\n",
       "Electronic City          243\n",
       "Brigade Road             242\n",
       "Bellandur                240\n",
       "Koramangala 7th Block    230\n",
       "                        ... \n",
       "Kengeri                    3\n",
       "Langford Town              3\n",
       "Yelahanka                  2\n",
       "Uttarahalli                2\n",
       "Nagarbhavi                 1\n",
       "Name: location, Length: 79, dtype: int64"
      ]
     },
     "execution_count": 13,
     "metadata": {},
     "output_type": "execute_result"
    }
   ],
   "source": [
    "count_lessthan_300 = count[count<300]\n",
    "count_lessthan_300"
   ]
  },
  {
   "cell_type": "code",
   "execution_count": 119,
   "metadata": {},
   "outputs": [],
   "source": [
    "\n",
    "\n",
    "def handle(value):\n",
    "    try:\n",
    "        if value in count_lessthan_300 :\n",
    "            return 'others'\n",
    "        else:\n",
    "            return value\n",
    "    except Exception as e:\n",
    "        print(str(e))"
   ]
  },
  {
   "cell_type": "code",
   "execution_count": 124,
   "metadata": {},
   "outputs": [],
   "source": [
    "test_df['location'] = test_df['location'].apply(handle)"
   ]
  },
  {
   "cell_type": "code",
   "execution_count": 126,
   "metadata": {},
   "outputs": [
    {
     "data": {
      "text/plain": [
       "array(['others', 'JP Nagar', 'Marathahalli', 'Bannerghatta Road', 'BTM',\n",
       "       'HSR', 'Koramangala 5th Block', 'Jayanagar', 'Whitefield',\n",
       "       'Indiranagar', nan], dtype=object)"
      ]
     },
     "execution_count": 126,
     "metadata": {},
     "output_type": "execute_result"
    }
   ],
   "source": [
    "test_df['location'].unique()"
   ]
  },
  {
   "cell_type": "code",
   "execution_count": 146,
   "metadata": {},
   "outputs": [],
   "source": [
    "from sqlite3 import DatabaseError\n",
    "\n",
    "\n",
    "def handle(df:pd.DataFrame,threshold):\n",
    "    try:\n",
    "        count = df.value_counts()\n",
    "        count_lesthan_threshold = count[count<threshold]\n",
    "        for value in df:\n",
    "            if value in count_lesthan_threshold:\n",
    "                value = 'others'\n",
    "            else:\n",
    "                value = value\n",
    "        return df\n",
    "    except Exception as e:\n",
    "        print(str(e))\n",
    "\n"
   ]
  },
  {
   "cell_type": "code",
   "execution_count": 149,
   "metadata": {},
   "outputs": [],
   "source": [
    "test_df['location'] = handle(test_df['location'],300)"
   ]
  },
  {
   "cell_type": "code",
   "execution_count": 151,
   "metadata": {},
   "outputs": [
    {
     "data": {
      "text/plain": [
       "array(['Koramangala 1st Block', 'JP Nagar',\n",
       "       'Varthur Main Road, Whitefield', 'Marathahalli',\n",
       "       'Bannerghatta Road', 'Sarjapur Road', 'BTM', 'Residency Road',\n",
       "       'Malleshwaram', 'HSR', 'Ulsoor', 'Banashankari',\n",
       "       'Koramangala 5th Block', 'Brigade Road', 'Ejipura',\n",
       "       'Sahakara Nagar', 'Domlur', 'Jayanagar', 'Brookefield',\n",
       "       'Jalahalli', 'Infantry Road', 'MG Road', 'Kammanahalli',\n",
       "       'Whitefield', 'Bellandur', 'Basavanagudi', 'St. Marks Road',\n",
       "       'HBR Layout', 'Koramangala 6th Block', 'Frazer Town',\n",
       "       'Koramangala 4th Block', 'Electronic City',\n",
       "       'Koramangala 2nd Block', 'Indiranagar', 'Kumaraswamy Layout',\n",
       "       'Banaswadi', 'Rajajinagar', 'Shanti Nagar', 'Kalyan Nagar',\n",
       "       'Koramangala 7th Block', 'Shivajinagar', 'Commercial Street',\n",
       "       'Church Street', 'Basaveshwara Nagar', 'Lavelle Road',\n",
       "       'Wilson Garden', 'Cunningham Road', 'Koramangala 3rd Block',\n",
       "       'Vijay Nagar', 'City Market', 'Hosur Road', 'Seshadripuram',\n",
       "       'Richmond Road', 'Nagawara', 'Race Course Road', 'KR Puram',\n",
       "       'Old Airport Road', 'New BEL Road', 'Bommanahalli',\n",
       "       'Koramangala 8th Block', 'Jeevan Bhima Nagar', 'East Bangalore',\n",
       "       'Koramangala', 'Kaggadasapura', 'Hennur', 'Thippasandra',\n",
       "       'Yeshwantpur', 'RT Nagar', 'Vasanth Nagar', nan, 'Majestic',\n",
       "       'South Bangalore', 'Sadashiv Nagar', 'CV Raman Nagar',\n",
       "       'Sankey Road', 'Magadi Road', 'North Bangalore',\n",
       "       'ITPL Main Road, Whitefield', 'Sanjay Nagar', 'Langford Town',\n",
       "       'Hebbal', 'Yelahanka', 'Old Madras Road', 'Kanakapura Road',\n",
       "       'Uttarahalli', 'Kengeri', 'Nagarbhavi', 'Mysore Road',\n",
       "       'Rammurthy Nagar'], dtype=object)"
      ]
     },
     "execution_count": 151,
     "metadata": {},
     "output_type": "execute_result"
    }
   ],
   "source": [
    "test_df['location'].unique()"
   ]
  },
  {
   "cell_type": "code",
   "execution_count": 138,
   "metadata": {},
   "outputs": [
    {
     "data": {
      "text/plain": [
       "Quick Bites                   3840\n",
       "Casual Dining                 2017\n",
       "Cafe                           729\n",
       "Delivery                       515\n",
       "Dessert Parlor                 472\n",
       "                              ... \n",
       "Food Court, Beverage Shop        1\n",
       "Bar, Quick Bites                 1\n",
       "Quick Bites, Mess                1\n",
       "Dessert Parlor, Sweet Shop       1\n",
       "Lounge, Cafe                     1\n",
       "Name: rest_type, Length: 85, dtype: int64"
      ]
     },
     "execution_count": 138,
     "metadata": {},
     "output_type": "execute_result"
    }
   ],
   "source": [
    "test_df['rest_type'].value_counts()"
   ]
  },
  {
   "cell_type": "code",
   "execution_count": 162,
   "metadata": {},
   "outputs": [],
   "source": [
    "from Restaurant.util.util import handlecomma\n",
    "test_df['approx_cost(for two people)'] = test_df['approx_cost(for two people)'].str.replace(\",\",\"\")"
   ]
  },
  {
   "cell_type": "code",
   "execution_count": 164,
   "metadata": {},
   "outputs": [],
   "source": [
    "from cgi import test\n",
    "\n",
    "\n",
    "test_df['approx_cost(for two people)'] = pd.to_numeric(test_df['approx_cost(for two people)'])"
   ]
  },
  {
   "cell_type": "code",
   "execution_count": 172,
   "metadata": {},
   "outputs": [
    {
     "data": {
      "text/plain": [
       "Index(['name', 'online_order', 'book_table', 'rate', 'votes', 'location',\n",
       "       'rest_type', 'dish_liked', 'cuisines', 'approx_cost(for two people)',\n",
       "       'listed_in(type)', 'listed_in(city)'],\n",
       "      dtype='object')"
      ]
     },
     "execution_count": 172,
     "metadata": {},
     "output_type": "execute_result"
    }
   ],
   "source": [
    "test_df.columns"
   ]
  },
  {
   "cell_type": "code",
   "execution_count": 173,
   "metadata": {},
   "outputs": [
    {
     "data": {
      "text/html": [
       "<div>\n",
       "<style scoped>\n",
       "    .dataframe tbody tr th:only-of-type {\n",
       "        vertical-align: middle;\n",
       "    }\n",
       "\n",
       "    .dataframe tbody tr th {\n",
       "        vertical-align: top;\n",
       "    }\n",
       "\n",
       "    .dataframe thead th {\n",
       "        text-align: right;\n",
       "    }\n",
       "</style>\n",
       "<table border=\"1\" class=\"dataframe\">\n",
       "  <thead>\n",
       "    <tr style=\"text-align: right;\">\n",
       "      <th></th>\n",
       "      <th>name</th>\n",
       "      <th>online_order</th>\n",
       "      <th>book_table</th>\n",
       "      <th>rate</th>\n",
       "      <th>votes</th>\n",
       "      <th>location</th>\n",
       "      <th>rest_type</th>\n",
       "      <th>dish_liked</th>\n",
       "      <th>cuisines</th>\n",
       "      <th>approx_cost(for two people)</th>\n",
       "      <th>listed_in(type)</th>\n",
       "      <th>listed_in(city)</th>\n",
       "    </tr>\n",
       "  </thead>\n",
       "  <tbody>\n",
       "    <tr>\n",
       "      <th>0</th>\n",
       "      <td>Kshera Sagar</td>\n",
       "      <td>No</td>\n",
       "      <td>No</td>\n",
       "      <td>3.9</td>\n",
       "      <td>0</td>\n",
       "      <td>Koramangala 1st Block</td>\n",
       "      <td>Quick Bites</td>\n",
       "      <td>NaN</td>\n",
       "      <td>North Indian, Chinese</td>\n",
       "      <td>200.0</td>\n",
       "      <td>Dine-out</td>\n",
       "      <td>Koramangala 5th Block</td>\n",
       "    </tr>\n",
       "    <tr>\n",
       "      <th>1</th>\n",
       "      <td>Melt - Eden Park</td>\n",
       "      <td>Yes</td>\n",
       "      <td>Yes</td>\n",
       "      <td>4.0</td>\n",
       "      <td>347</td>\n",
       "      <td>JP Nagar</td>\n",
       "      <td>Casual Dining</td>\n",
       "      <td>Tandoori Chicken, Biryani, Paneer Tikka, Chick...</td>\n",
       "      <td>North Indian, Chinese, Thai, Mughlai, Seafood</td>\n",
       "      <td>1000.0</td>\n",
       "      <td>Buffet</td>\n",
       "      <td>JP Nagar</td>\n",
       "    </tr>\n",
       "    <tr>\n",
       "      <th>2</th>\n",
       "      <td>Sea Horse</td>\n",
       "      <td>No</td>\n",
       "      <td>No</td>\n",
       "      <td>3.4</td>\n",
       "      <td>9</td>\n",
       "      <td>JP Nagar</td>\n",
       "      <td>Casual Dining</td>\n",
       "      <td>NaN</td>\n",
       "      <td>South Indian, Chinese</td>\n",
       "      <td>400.0</td>\n",
       "      <td>Delivery</td>\n",
       "      <td>Bannerghatta Road</td>\n",
       "    </tr>\n",
       "    <tr>\n",
       "      <th>3</th>\n",
       "      <td>CakeZone</td>\n",
       "      <td>Yes</td>\n",
       "      <td>No</td>\n",
       "      <td>3.9</td>\n",
       "      <td>33</td>\n",
       "      <td>Varthur Main Road, Whitefield</td>\n",
       "      <td>Takeaway, Delivery</td>\n",
       "      <td>NaN</td>\n",
       "      <td>Bakery, Desserts</td>\n",
       "      <td>200.0</td>\n",
       "      <td>Delivery</td>\n",
       "      <td>Whitefield</td>\n",
       "    </tr>\n",
       "    <tr>\n",
       "      <th>4</th>\n",
       "      <td>Shri Vishnu Grand</td>\n",
       "      <td>Yes</td>\n",
       "      <td>No</td>\n",
       "      <td>3.1</td>\n",
       "      <td>142</td>\n",
       "      <td>Marathahalli</td>\n",
       "      <td>Casual Dining</td>\n",
       "      <td>Rava Idli, Tea, Coffee, Rava Dosa, Biryani, Ma...</td>\n",
       "      <td>North Indian, South Indian, Chinese</td>\n",
       "      <td>450.0</td>\n",
       "      <td>Delivery</td>\n",
       "      <td>Sarjapur Road</td>\n",
       "    </tr>\n",
       "  </tbody>\n",
       "</table>\n",
       "</div>"
      ],
      "text/plain": [
       "                name online_order book_table  rate  votes  \\\n",
       "0       Kshera Sagar           No         No   3.9      0   \n",
       "1   Melt - Eden Park          Yes        Yes   4.0    347   \n",
       "2          Sea Horse           No         No   3.4      9   \n",
       "3           CakeZone          Yes         No   3.9     33   \n",
       "4  Shri Vishnu Grand          Yes         No   3.1    142   \n",
       "\n",
       "                        location           rest_type  \\\n",
       "0          Koramangala 1st Block         Quick Bites   \n",
       "1                       JP Nagar       Casual Dining   \n",
       "2                       JP Nagar       Casual Dining   \n",
       "3  Varthur Main Road, Whitefield  Takeaway, Delivery   \n",
       "4                   Marathahalli       Casual Dining   \n",
       "\n",
       "                                          dish_liked  \\\n",
       "0                                                NaN   \n",
       "1  Tandoori Chicken, Biryani, Paneer Tikka, Chick...   \n",
       "2                                                NaN   \n",
       "3                                                NaN   \n",
       "4  Rava Idli, Tea, Coffee, Rava Dosa, Biryani, Ma...   \n",
       "\n",
       "                                        cuisines  approx_cost(for two people)  \\\n",
       "0                          North Indian, Chinese                        200.0   \n",
       "1  North Indian, Chinese, Thai, Mughlai, Seafood                       1000.0   \n",
       "2                          South Indian, Chinese                        400.0   \n",
       "3                               Bakery, Desserts                        200.0   \n",
       "4            North Indian, South Indian, Chinese                        450.0   \n",
       "\n",
       "  listed_in(type)        listed_in(city)  \n",
       "0        Dine-out  Koramangala 5th Block  \n",
       "1          Buffet               JP Nagar  \n",
       "2        Delivery      Bannerghatta Road  \n",
       "3        Delivery             Whitefield  \n",
       "4        Delivery          Sarjapur Road  "
      ]
     },
     "execution_count": 173,
     "metadata": {},
     "output_type": "execute_result"
    }
   ],
   "source": [
    "test_df.head()"
   ]
  },
  {
   "cell_type": "code",
   "execution_count": 178,
   "metadata": {},
   "outputs": [],
   "source": [
    "def handle(value):\n",
    "    try:\n",
    "        if value in count_lessthan_300 :\n",
    "            return 'others'\n",
    "        else:\n",
    "            return value\n",
    "    except Exception as e:\n",
    "        print(str(e))"
   ]
  },
  {
   "cell_type": "code",
   "execution_count": 179,
   "metadata": {},
   "outputs": [],
   "source": [
    "test_df['rest_type'] = test_df['rest_type'].apply(handle)"
   ]
  },
  {
   "cell_type": "code",
   "execution_count": 180,
   "metadata": {},
   "outputs": [
    {
     "data": {
      "text/plain": [
       "86"
      ]
     },
     "execution_count": 180,
     "metadata": {},
     "output_type": "execute_result"
    }
   ],
   "source": [
    "len(test_df['rest_type'].unique())"
   ]
  },
  {
   "cell_type": "code",
   "execution_count": null,
   "metadata": {},
   "outputs": [],
   "source": []
  }
 ],
 "metadata": {
  "kernelspec": {
   "display_name": "Python 3.7.0 (conda)",
   "language": "python",
   "name": "python3"
  },
  "language_info": {
   "codemirror_mode": {
    "name": "ipython",
    "version": 3
   },
   "file_extension": ".py",
   "mimetype": "text/x-python",
   "name": "python",
   "nbconvert_exporter": "python",
   "pygments_lexer": "ipython3",
   "version": "3.7.0"
  },
  "orig_nbformat": 4,
  "vscode": {
   "interpreter": {
    "hash": "44c196e59bf9442445c7ee3f6b66dcbe7da47491cf852c98f71697367b56676a"
   }
  }
 },
 "nbformat": 4,
 "nbformat_minor": 2
}
